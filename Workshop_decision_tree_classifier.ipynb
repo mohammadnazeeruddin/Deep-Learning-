{
 "cells": [
  {
   "cell_type": "markdown",
   "metadata": {},
   "source": [
    "#### Importing packages"
   ]
  },
  {
   "cell_type": "code",
   "execution_count": 92,
   "metadata": {
    "scrolled": false
   },
   "outputs": [],
   "source": [
    "#python packages for data analysis\n",
    "import pandas as pd\n",
    "import numpy as np"
   ]
  },
  {
   "cell_type": "code",
   "execution_count": 93,
   "metadata": {
    "scrolled": true
   },
   "outputs": [
    {
     "data": {
      "text/plain": [
       "(696, 15)"
      ]
     },
     "metadata": {},
     "output_type": "display_data"
    },
    {
     "data": {
      "text/html": [
       "<div>\n",
       "<style scoped>\n",
       "    .dataframe tbody tr th:only-of-type {\n",
       "        vertical-align: middle;\n",
       "    }\n",
       "\n",
       "    .dataframe tbody tr th {\n",
       "        vertical-align: top;\n",
       "    }\n",
       "\n",
       "    .dataframe thead th {\n",
       "        text-align: right;\n",
       "    }\n",
       "</style>\n",
       "<table border=\"1\" class=\"dataframe\">\n",
       "  <thead>\n",
       "    <tr style=\"text-align: right;\">\n",
       "      <th></th>\n",
       "      <th>Price_in_Rupees</th>\n",
       "      <th>Mobiles</th>\n",
       "      <th>Colors</th>\n",
       "      <th>Off(%)</th>\n",
       "      <th>Ram</th>\n",
       "      <th>Rom</th>\n",
       "      <th>Expandable_GB/TB</th>\n",
       "      <th>Dual_sim</th>\n",
       "      <th>Screen_in_inch</th>\n",
       "      <th>Display</th>\n",
       "      <th>Secondary_Camera(MP)</th>\n",
       "      <th>Primary_Camera(MP)</th>\n",
       "      <th>Battery_details</th>\n",
       "      <th>Warranty(Year)</th>\n",
       "      <th>Rating</th>\n",
       "    </tr>\n",
       "  </thead>\n",
       "  <tbody>\n",
       "    <tr>\n",
       "      <th>0</th>\n",
       "      <td>5999</td>\n",
       "      <td>RealmeC2</td>\n",
       "      <td>DiamondBlack</td>\n",
       "      <td>14</td>\n",
       "      <td>2 GB</td>\n",
       "      <td>16 GB</td>\n",
       "      <td>256 GB</td>\n",
       "      <td>yes</td>\n",
       "      <td>6.1</td>\n",
       "      <td>HD</td>\n",
       "      <td>5</td>\n",
       "      <td>13 + 2</td>\n",
       "      <td>4000</td>\n",
       "      <td>1</td>\n",
       "      <td>4.5</td>\n",
       "    </tr>\n",
       "    <tr>\n",
       "      <th>1</th>\n",
       "      <td>5999</td>\n",
       "      <td>RealmeC2</td>\n",
       "      <td>DiamondBlue</td>\n",
       "      <td>14</td>\n",
       "      <td>2 GB</td>\n",
       "      <td>16 GB</td>\n",
       "      <td>256 GB</td>\n",
       "      <td>yes</td>\n",
       "      <td>6.1</td>\n",
       "      <td>HD</td>\n",
       "      <td>5</td>\n",
       "      <td>13 + 2</td>\n",
       "      <td>4000</td>\n",
       "      <td>1</td>\n",
       "      <td>4.5</td>\n",
       "    </tr>\n",
       "    <tr>\n",
       "      <th>2</th>\n",
       "      <td>8990</td>\n",
       "      <td>SamsungGalaxyOnNxt</td>\n",
       "      <td>Gold</td>\n",
       "      <td>49</td>\n",
       "      <td>3 GB</td>\n",
       "      <td>64 GB</td>\n",
       "      <td>256 GB</td>\n",
       "      <td>yes</td>\n",
       "      <td>5.5</td>\n",
       "      <td>FullHDDisplay</td>\n",
       "      <td>8</td>\n",
       "      <td>13</td>\n",
       "      <td>3300</td>\n",
       "      <td>1</td>\n",
       "      <td>4.3</td>\n",
       "    </tr>\n",
       "    <tr>\n",
       "      <th>3</th>\n",
       "      <td>10000</td>\n",
       "      <td>OPPOA37f</td>\n",
       "      <td>Grey</td>\n",
       "      <td>10</td>\n",
       "      <td>2 GB</td>\n",
       "      <td>16 GB</td>\n",
       "      <td>128 GB</td>\n",
       "      <td>yes</td>\n",
       "      <td>5.0</td>\n",
       "      <td>HDDisplay</td>\n",
       "      <td>5</td>\n",
       "      <td>8</td>\n",
       "      <td>2630</td>\n",
       "      <td>1</td>\n",
       "      <td>4.2</td>\n",
       "    </tr>\n",
       "    <tr>\n",
       "      <th>4</th>\n",
       "      <td>10000</td>\n",
       "      <td>OPPOA71</td>\n",
       "      <td>Gold</td>\n",
       "      <td>10</td>\n",
       "      <td>3 GB</td>\n",
       "      <td>16 GB</td>\n",
       "      <td>256 GB</td>\n",
       "      <td>yes</td>\n",
       "      <td>5.2</td>\n",
       "      <td>HDDisplay</td>\n",
       "      <td>5</td>\n",
       "      <td>13</td>\n",
       "      <td>3000</td>\n",
       "      <td>1</td>\n",
       "      <td>4.2</td>\n",
       "    </tr>\n",
       "  </tbody>\n",
       "</table>\n",
       "</div>"
      ],
      "text/plain": [
       "   Price_in_Rupees             Mobiles        Colors  Off(%)     Ram  \\\n",
       "0             5999            RealmeC2  DiamondBlack      14  2 GB     \n",
       "1             5999            RealmeC2   DiamondBlue      14  2 GB     \n",
       "2             8990  SamsungGalaxyOnNxt          Gold      49  3 GB     \n",
       "3            10000            OPPOA37f          Grey      10  2 GB     \n",
       "4            10000             OPPOA71          Gold      10  3 GB     \n",
       "\n",
       "        Rom Expandable_GB/TB Dual_sim  Screen_in_inch        Display  \\\n",
       "0   16 GB             256 GB      yes             6.1             HD   \n",
       "1   16 GB             256 GB      yes             6.1             HD   \n",
       "2   64 GB             256 GB      yes             5.5  FullHDDisplay   \n",
       "3   16 GB             128 GB      yes             5.0      HDDisplay   \n",
       "4   16 GB             256 GB      yes             5.2      HDDisplay   \n",
       "\n",
       "   Secondary_Camera(MP) Primary_Camera(MP)  Battery_details  Warranty(Year)  \\\n",
       "0                     5            13 + 2              4000               1   \n",
       "1                     5            13 + 2              4000               1   \n",
       "2                     8                 13             3300               1   \n",
       "3                     5                  8             2630               1   \n",
       "4                     5                 13             3000               1   \n",
       "\n",
       "   Rating  \n",
       "0     4.5  \n",
       "1     4.5  \n",
       "2     4.3  \n",
       "3     4.2  \n",
       "4     4.2  "
      ]
     },
     "metadata": {},
     "output_type": "display_data"
    }
   ],
   "source": [
    "# loading data set.\n",
    "df = pd.read_csv(r'C:\\Users\\sbhardw\\Downloads\\flipkart_mobile_data.csv')\n",
    "display(df.shape, df.head())"
   ]
  },
  {
   "cell_type": "code",
   "execution_count": 94,
   "metadata": {},
   "outputs": [
    {
     "name": "stdout",
     "output_type": "stream",
     "text": [
      "290\n"
     ]
    },
    {
     "data": {
      "text/plain": [
       "(696, 15)"
      ]
     },
     "metadata": {},
     "output_type": "display_data"
    },
    {
     "data": {
      "text/plain": [
       "(406, 15)"
      ]
     },
     "metadata": {},
     "output_type": "display_data"
    }
   ],
   "source": [
    "# Dropping the duplicates\n",
    "print(df.duplicated(subset=None, keep='first').sum())\n",
    "df1 = df.drop_duplicates(keep = 'first', inplace = False)\n",
    "display(df.shape, df1.shape)"
   ]
  },
  {
   "cell_type": "code",
   "execution_count": 95,
   "metadata": {
    "scrolled": true
   },
   "outputs": [
    {
     "data": {
      "text/plain": [
       "(406, 15)"
      ]
     },
     "metadata": {},
     "output_type": "display_data"
    },
    {
     "data": {
      "text/plain": [
       "Price_in_Rupees          0\n",
       "Mobiles                  0\n",
       "Colors                   2\n",
       "Off(%)                   0\n",
       "Ram                      0\n",
       "Rom                      8\n",
       "Expandable_GB/TB         0\n",
       "Dual_sim                 0\n",
       "Screen_in_inch           0\n",
       "Display                 78\n",
       "Secondary_Camera(MP)     0\n",
       "Primary_Camera(MP)       0\n",
       "Battery_details          0\n",
       "Warranty(Year)           0\n",
       "Rating                   0\n",
       "dtype: int64"
      ]
     },
     "metadata": {},
     "output_type": "display_data"
    }
   ],
   "source": [
    "# Dropping NAs\n",
    "display(df1.shape, df1.isnull().sum())"
   ]
  },
  {
   "cell_type": "code",
   "execution_count": 96,
   "metadata": {
    "scrolled": true
   },
   "outputs": [
    {
     "name": "stderr",
     "output_type": "stream",
     "text": [
      "C:\\Users\\sbhardw\\AppData\\Local\\Continuum\\anaconda3\\lib\\site-packages\\ipykernel_launcher.py:1: SettingWithCopyWarning: \n",
      "A value is trying to be set on a copy of a slice from a DataFrame\n",
      "\n",
      "See the caveats in the documentation: http://pandas.pydata.org/pandas-docs/stable/indexing.html#indexing-view-versus-copy\n",
      "  \"\"\"Entry point for launching an IPython kernel.\n"
     ]
    },
    {
     "data": {
      "text/plain": [
       "False"
      ]
     },
     "metadata": {},
     "output_type": "display_data"
    },
    {
     "data": {
      "text/plain": [
       "(319, 15)"
      ]
     },
     "metadata": {},
     "output_type": "display_data"
    },
    {
     "data": {
      "text/html": [
       "<div>\n",
       "<style scoped>\n",
       "    .dataframe tbody tr th:only-of-type {\n",
       "        vertical-align: middle;\n",
       "    }\n",
       "\n",
       "    .dataframe tbody tr th {\n",
       "        vertical-align: top;\n",
       "    }\n",
       "\n",
       "    .dataframe thead th {\n",
       "        text-align: right;\n",
       "    }\n",
       "</style>\n",
       "<table border=\"1\" class=\"dataframe\">\n",
       "  <thead>\n",
       "    <tr style=\"text-align: right;\">\n",
       "      <th></th>\n",
       "      <th>Price_in_Rupees</th>\n",
       "      <th>Mobiles</th>\n",
       "      <th>Colors</th>\n",
       "      <th>Off(%)</th>\n",
       "      <th>Ram</th>\n",
       "      <th>Rom</th>\n",
       "      <th>Expandable_GB/TB</th>\n",
       "      <th>Dual_sim</th>\n",
       "      <th>Screen_in_inch</th>\n",
       "      <th>Display</th>\n",
       "      <th>Secondary_Camera(MP)</th>\n",
       "      <th>Primary_Camera(MP)</th>\n",
       "      <th>Battery_details</th>\n",
       "      <th>Warranty(Year)</th>\n",
       "      <th>Rating</th>\n",
       "    </tr>\n",
       "  </thead>\n",
       "  <tbody>\n",
       "    <tr>\n",
       "      <th>0</th>\n",
       "      <td>5999</td>\n",
       "      <td>RealmeC2</td>\n",
       "      <td>DiamondBlack</td>\n",
       "      <td>14</td>\n",
       "      <td>2 GB</td>\n",
       "      <td>16 GB</td>\n",
       "      <td>256 GB</td>\n",
       "      <td>yes</td>\n",
       "      <td>6.1</td>\n",
       "      <td>HD</td>\n",
       "      <td>5</td>\n",
       "      <td>13 + 2</td>\n",
       "      <td>4000</td>\n",
       "      <td>1</td>\n",
       "      <td>4.5</td>\n",
       "    </tr>\n",
       "    <tr>\n",
       "      <th>1</th>\n",
       "      <td>5999</td>\n",
       "      <td>RealmeC2</td>\n",
       "      <td>DiamondBlue</td>\n",
       "      <td>14</td>\n",
       "      <td>2 GB</td>\n",
       "      <td>16 GB</td>\n",
       "      <td>256 GB</td>\n",
       "      <td>yes</td>\n",
       "      <td>6.1</td>\n",
       "      <td>HD</td>\n",
       "      <td>5</td>\n",
       "      <td>13 + 2</td>\n",
       "      <td>4000</td>\n",
       "      <td>1</td>\n",
       "      <td>4.5</td>\n",
       "    </tr>\n",
       "  </tbody>\n",
       "</table>\n",
       "</div>"
      ],
      "text/plain": [
       "   Price_in_Rupees   Mobiles        Colors  Off(%)     Ram       Rom  \\\n",
       "0             5999  RealmeC2  DiamondBlack      14  2 GB     16 GB     \n",
       "1             5999  RealmeC2   DiamondBlue      14  2 GB     16 GB     \n",
       "\n",
       "  Expandable_GB/TB Dual_sim  Screen_in_inch Display  Secondary_Camera(MP)  \\\n",
       "0           256 GB      yes             6.1      HD                     5   \n",
       "1           256 GB      yes             6.1      HD                     5   \n",
       "\n",
       "  Primary_Camera(MP)  Battery_details  Warranty(Year)  Rating  \n",
       "0            13 + 2              4000               1     4.5  \n",
       "1            13 + 2              4000               1     4.5  "
      ]
     },
     "metadata": {},
     "output_type": "display_data"
    }
   ],
   "source": [
    "df1.dropna(inplace=True)\n",
    "display(df1.isnull().sum().any(), df1.shape, df1.head(2))"
   ]
  },
  {
   "cell_type": "code",
   "execution_count": 97,
   "metadata": {},
   "outputs": [
    {
     "data": {
      "text/plain": [
       "(319, 15)"
      ]
     },
     "metadata": {},
     "output_type": "display_data"
    },
    {
     "data": {
      "text/html": [
       "<div>\n",
       "<style scoped>\n",
       "    .dataframe tbody tr th:only-of-type {\n",
       "        vertical-align: middle;\n",
       "    }\n",
       "\n",
       "    .dataframe tbody tr th {\n",
       "        vertical-align: top;\n",
       "    }\n",
       "\n",
       "    .dataframe thead th {\n",
       "        text-align: right;\n",
       "    }\n",
       "</style>\n",
       "<table border=\"1\" class=\"dataframe\">\n",
       "  <thead>\n",
       "    <tr style=\"text-align: right;\">\n",
       "      <th></th>\n",
       "      <th>price_in_rupees</th>\n",
       "      <th>mobiles</th>\n",
       "      <th>colors</th>\n",
       "      <th>off(%)</th>\n",
       "      <th>ram</th>\n",
       "      <th>rom</th>\n",
       "      <th>expandable_gb/tb</th>\n",
       "      <th>dual_sim</th>\n",
       "      <th>screen_in_inch</th>\n",
       "      <th>display</th>\n",
       "      <th>secondary_camera(mp)</th>\n",
       "      <th>primary_camera(mp)</th>\n",
       "      <th>battery_details</th>\n",
       "      <th>warranty(year)</th>\n",
       "      <th>rating</th>\n",
       "    </tr>\n",
       "  </thead>\n",
       "  <tbody>\n",
       "    <tr>\n",
       "      <th>0</th>\n",
       "      <td>5999</td>\n",
       "      <td>realmec2</td>\n",
       "      <td>diamondblack</td>\n",
       "      <td>14</td>\n",
       "      <td>2 gb</td>\n",
       "      <td>16 gb</td>\n",
       "      <td>256 gb</td>\n",
       "      <td>yes</td>\n",
       "      <td>6.1</td>\n",
       "      <td>hd</td>\n",
       "      <td>5</td>\n",
       "      <td>13 + 2</td>\n",
       "      <td>4000</td>\n",
       "      <td>1</td>\n",
       "      <td>4.5</td>\n",
       "    </tr>\n",
       "    <tr>\n",
       "      <th>1</th>\n",
       "      <td>5999</td>\n",
       "      <td>realmec2</td>\n",
       "      <td>diamondblue</td>\n",
       "      <td>14</td>\n",
       "      <td>2 gb</td>\n",
       "      <td>16 gb</td>\n",
       "      <td>256 gb</td>\n",
       "      <td>yes</td>\n",
       "      <td>6.1</td>\n",
       "      <td>hd</td>\n",
       "      <td>5</td>\n",
       "      <td>13 + 2</td>\n",
       "      <td>4000</td>\n",
       "      <td>1</td>\n",
       "      <td>4.5</td>\n",
       "    </tr>\n",
       "  </tbody>\n",
       "</table>\n",
       "</div>"
      ],
      "text/plain": [
       "  price_in_rupees   mobiles        colors off(%)     ram       rom  \\\n",
       "0            5999  realmec2  diamondblack     14  2 gb     16 gb     \n",
       "1            5999  realmec2   diamondblue     14  2 gb     16 gb     \n",
       "\n",
       "  expandable_gb/tb dual_sim screen_in_inch display secondary_camera(mp)  \\\n",
       "0           256 gb      yes            6.1      hd                    5   \n",
       "1           256 gb      yes            6.1      hd                    5   \n",
       "\n",
       "  primary_camera(mp) battery_details warranty(year) rating  \n",
       "0            13 + 2             4000              1    4.5  \n",
       "1            13 + 2             4000              1    4.5  "
      ]
     },
     "metadata": {},
     "output_type": "display_data"
    }
   ],
   "source": [
    "# Converting column names into lower case\n",
    "df1.columns = [df1.columns.to_list()[i].lower() for i in range(len(df1.columns.to_list()))]\n",
    "\n",
    "# Converting data into lower case\n",
    "df2 = df1.apply(lambda x: x.astype(str).str.lower())\n",
    "display(df2.shape, df2.head(2))"
   ]
  },
  {
   "cell_type": "code",
   "execution_count": null,
   "metadata": {},
   "outputs": [],
   "source": []
  },
  {
   "cell_type": "markdown",
   "metadata": {},
   "source": [
    "#### mobile name"
   ]
  },
  {
   "cell_type": "code",
   "execution_count": 98,
   "metadata": {},
   "outputs": [
    {
     "data": {
      "text/plain": [
       "148"
      ]
     },
     "metadata": {},
     "output_type": "display_data"
    },
    {
     "data": {
      "text/plain": [
       "array(['RealmeC2', 'SamsungGalaxyOnNxt', 'OPPOA37f', 'OPPOA71',\n",
       "       'OPPOA71NewEdition', 'OPPONeo74G', 'OPPOA3s', 'RedmiNote7Pro',\n",
       "       'Realme3', 'OPPOA83', 'OPPOA71k', 'RedmiNote7S',\n",
       "       'AsusZenfoneMaxProM1', 'Realme3Pro', 'RedmiY2', 'Redmi6',\n",
       "       'OPPOF11Pro', 'KekaiSparkGio', 'ItelA23', 'MobiistarC1Lite',\n",
       "       'MicromaxVdeo3', 'VOTOV12', 'ComioC2Lite', 'OPPOA5s',\n",
       "       'RedmiNote6Pro', 'OPPOA7', 'OPPOF9Pro', 'OPPOA5',\n",
       "       'InfinixSmart3Plus', 'RealmeC1', 'Redmi6A', 'LenovoA5', 'Redmi5',\n",
       "       'VotoV9', 'SamsungGalaxyA2Core', 'SamsungGalaxyJ6', 'VivoY81',\n",
       "       'SamsungGalaxyA10', 'MotoE5Plus', 'VivoY91', 'Honor10Lite', 'MiA1',\n",
       "       'PanasonicElugaX1', 'VivoY91i', 'RedmiGo', 'InfinixSmart2',\n",
       "       'YuAce', 'GioneeF205', 'AsusZenFoneLiteL1', 'XOLOEra4x', 'ItelA46',\n",
       "       'LavaZ61', 'LavaZ50', 'Honor9i', 'RedmiNote5Pro', 'Realme2Pro',\n",
       "       'KarbonnAuraSleekPlus', 'LavaZ60S', 'Alcatel3V', 'LYFWater1',\n",
       "       'LYFFlame8', 'VivoY93', 'VivoY15', 'Nokia5.1Plus',\n",
       "       'SamsungGalaxyJ2Core', 'MobiistarX1Notch', 'Honor9Lite',\n",
       "       'SamsungGalaxyC7Pro', 'SamsungGalaxyJ8', 'SamsungGalaxyA50',\n",
       "       'SamsungGalaxyA7', 'SamsungGalaxyA30', 'PanasonicP110',\n",
       "       'STKAcePlus', 'CoolpadMega5M', 'ReachAllureAdmire4GVoLTE',\n",
       "       'MicromaxBharat4DiwaliEdition', 'LenovoK8Plus', 'LenovoP2',\n",
       "       'LenovoK8Note', 'LenovoZ2Plus', 'InfinixS4', 'RedmiNote7',\n",
       "       'VivoY17', 'VivoV15', 'VivoY95', 'POCOF1byXiaomi', 'VivoV15Pro',\n",
       "       'NubiaRedMagic3', 'GooglePixel3a', 'AppleiPhone6sPlus',\n",
       "       'AppleiPhone6s', 'SamsungGalaxyNote8', 'HTCU11', 'HuaweiP9',\n",
       "       'SamsungGalaxyA9', 'MotoZwithStyleMod', 'SamsungGalaxyJ6Plus',\n",
       "       'LenovoPhab2Plus', 'LenovoK9', 'LenovoK9Note', 'BlackberryEvolve',\n",
       "       'MotoTurbo', 'SamsungGalaxyA70', 'Nokia8.1', 'LYFC459', 'LYFWind1',\n",
       "       'Asus6Z', 'LenovoVibeZ2Pro', 'LenovoK8', 'LenovoVibeP1Turbo',\n",
       "       'LenovoS930', 'LenovoA7000', 'SamsungGalaxyOn8', 'LYFEarth1',\n",
       "       'LYFWind7i', 'LYFWaterF1S', 'GooglePixel3', 'LenovoVIBEP1',\n",
       "       'LenovoK6Note', 'LenovoX2-AP', 'SamsungGalaxyA20',\n",
       "       'SamsungGalaxyOn6', 'HonorPlay', 'Honor8X', 'Honor7A', 'Honor8C',\n",
       "       'KarbonnK9SmartPlus', 'LenovoVibeK5Note',\n",
       "       'MicromaxCanvasTurboMiniA200', 'MicromaxCanvas2ColorsA120',\n",
       "       'MicromaxInfinityN12', 'MicromaxBharat5', 'MicromaxSelfie2Note',\n",
       "       'MicromaxBharat5Pro', 'MicromaxCanvas2Plus', 'SamsungGalaxyJ4Plus',\n",
       "       'LenovoK3Note', 'LenovoVibeP1Turbo/VibeP1',\n",
       "       'MicromaxCanvasTurboA250', 'VivoV9Pro', 'VivoY81i', 'VivoV7+',\n",
       "       'MicromaxCanvasFire3A096', 'MicromaxCanvas2',\n",
       "       'MicromaxBharat5Plus', 'MicromaxVdeo4', 'LenovoS90OrSisleyS90'],\n",
       "      dtype=object)"
      ]
     },
     "metadata": {},
     "output_type": "display_data"
    }
   ],
   "source": [
    "display(len(df1.mobiles.unique()), df1.mobiles.unique())"
   ]
  },
  {
   "cell_type": "code",
   "execution_count": 99,
   "metadata": {},
   "outputs": [],
   "source": [
    "mobile_brands = ['samsung', 'oppo', 'redmi', 'asus', 'lenovo', 'micromax', 'moto', 'vivo', 'honor', 'mi', 'panasonic', 'gionee', 'nokia', 'lava', 'apple', 'google']"
   ]
  },
  {
   "cell_type": "code",
   "execution_count": 100,
   "metadata": {},
   "outputs": [],
   "source": [
    "for i in range(len(mobile_brands)):\n",
    "    df2.loc[df2.mobiles.str.contains(mobile_brands[i]), 'mobiles'] = mobile_brands[i]"
   ]
  },
  {
   "cell_type": "code",
   "execution_count": 101,
   "metadata": {},
   "outputs": [],
   "source": [
    "df2.loc[~df2['mobiles'].isin(mobile_brands), 'mobiles'] = 'others'"
   ]
  },
  {
   "cell_type": "code",
   "execution_count": 102,
   "metadata": {},
   "outputs": [
    {
     "data": {
      "text/plain": [
       "15"
      ]
     },
     "metadata": {},
     "output_type": "display_data"
    },
    {
     "data": {
      "text/plain": [
       "array(['others', 'samsung', 'oppo', 'mi', 'asus', 'lenovo', 'vivo',\n",
       "       'moto', 'honor', 'panasonic', 'gionee', 'lava', 'nokia', 'google',\n",
       "       'apple'], dtype=object)"
      ]
     },
     "metadata": {},
     "output_type": "display_data"
    }
   ],
   "source": [
    "display(len(df2.mobiles.unique()), df2.mobiles.unique())"
   ]
  },
  {
   "cell_type": "markdown",
   "metadata": {},
   "source": [
    "#### Color"
   ]
  },
  {
   "cell_type": "code",
   "execution_count": 103,
   "metadata": {},
   "outputs": [
    {
     "data": {
      "text/plain": [
       "93"
      ]
     },
     "metadata": {},
     "output_type": "display_data"
    },
    {
     "data": {
      "text/plain": [
       "array(['diamondblack', 'diamondblue', 'gold', 'grey', 'black', 'purple',\n",
       "       'red', 'neptuneblue', 'spaceblack', 'dynamicblack', 'radiantblue',\n",
       "       'champagne', 'newedition', 'sapphireblue', 'lightningpurple',\n",
       "       'blue', 'thunderblack', 'auroragreen', 'gradationred',\n",
       "       'phantomblack', 'royalblack', 'onyxblack', 'nitroblue',\n",
       "       'glazeblue', 'sunrisered', 'twilightblue', 'starrypurple',\n",
       "       'diamondred', 'glaringgold', 'mochabrown', 'mirrorblack',\n",
       "       'navyblue', 'midnightblack', 'sapphirecyan', 'rosegold',\n",
       "       'lakeblue', 'darkgray', 'finegold', 'nebulapurple', 'fusionblack',\n",
       "       'sandstoneblack', 'charcoalgrey', 'elektricblue', 'blackandgold',\n",
       "       'gradationdiamondgrey', 'rubyred', 'graphiteblack', 'aurorablue',\n",
       "       'blacksea', 'blueocean', 'spectrumgold', 'bordeauxred', 'white',\n",
       "       'aquablue', 'burgundyred', 'oceanblue', 'skyblue', 'venomblack',\n",
       "       'spacegray', 'nebulablue', 'twilightpurple', 'nebulared',\n",
       "       'mysticpurple', 'mineralblue', 'starryblack', 'steelblue',\n",
       "       'frozenblack', 'topazblue', 'justblack', 'silver', 'spacegrey',\n",
       "       'clearlywhite', 'orchidgrey', 'solarred', 'titaniumgrey',\n",
       "       'lemonadeblue', 'gunmetalgrey', 'prestigegold', 'mysticsilver',\n",
       "       'maplegold', 'iron', 'champagnegold', 'starrynightblack',\n",
       "       'caviarblack', 'serenegold', 'white.', 'viola', 'jetblack',\n",
       "       'cityblue', 'grey/graphitegrey', 'yellow', 'matteblack',\n",
       "       'matteblue'], dtype=object)"
      ]
     },
     "metadata": {},
     "output_type": "display_data"
    }
   ],
   "source": [
    "display(len(df2.colors.unique()), df2.colors.unique())"
   ]
  },
  {
   "cell_type": "code",
   "execution_count": 104,
   "metadata": {},
   "outputs": [],
   "source": [
    "colors_list = ['black', 'gold', 'white', 'others']"
   ]
  },
  {
   "cell_type": "code",
   "execution_count": 105,
   "metadata": {},
   "outputs": [],
   "source": [
    "for i in range(len(colors_list)):\n",
    "    df2.loc[df2.colors.str.contains(colors_list[i]), 'colors'] = colors_list[i]"
   ]
  },
  {
   "cell_type": "code",
   "execution_count": 106,
   "metadata": {},
   "outputs": [],
   "source": [
    "df2.loc[~df2['colors'].isin(colors_list), 'colors'] = 'others'"
   ]
  },
  {
   "cell_type": "code",
   "execution_count": 107,
   "metadata": {},
   "outputs": [
    {
     "data": {
      "text/plain": [
       "4"
      ]
     },
     "metadata": {},
     "output_type": "display_data"
    },
    {
     "data": {
      "text/plain": [
       "array(['black', 'others', 'gold', 'white'], dtype=object)"
      ]
     },
     "metadata": {},
     "output_type": "display_data"
    }
   ],
   "source": [
    "display(len(df2.colors.unique()), df2.colors.unique())"
   ]
  },
  {
   "cell_type": "markdown",
   "metadata": {},
   "source": [
    "#### RAM, ROM and expandable memory"
   ]
  },
  {
   "cell_type": "code",
   "execution_count": 108,
   "metadata": {},
   "outputs": [
    {
     "data": {
      "text/plain": [
       "9"
      ]
     },
     "metadata": {},
     "output_type": "display_data"
    },
    {
     "data": {
      "text/plain": [
       "array(['2 gb  ', '3 gb  ', '1 gb  ', '4 gb  ', '6 gb  ', '1.5 gb  ',\n",
       "       '8 gb  ', '16 gb  ', '32 gb  '], dtype=object)"
      ]
     },
     "metadata": {},
     "output_type": "display_data"
    }
   ],
   "source": [
    "display(len(df2.ram.unique()), df2.ram.unique())"
   ]
  },
  {
   "cell_type": "code",
   "execution_count": 109,
   "metadata": {},
   "outputs": [],
   "source": [
    "df2['ram'] = df2['ram'].str.split(\" \").str[0]"
   ]
  },
  {
   "cell_type": "code",
   "execution_count": 110,
   "metadata": {
    "scrolled": true
   },
   "outputs": [
    {
     "data": {
      "text/plain": [
       "9"
      ]
     },
     "metadata": {},
     "output_type": "display_data"
    },
    {
     "data": {
      "text/plain": [
       "array(['2', '3', '1', '4', '6', '1.5', '8', '16', '32'], dtype=object)"
      ]
     },
     "metadata": {},
     "output_type": "display_data"
    }
   ],
   "source": [
    "display(len(df2.ram.unique()), df2.ram.unique())"
   ]
  },
  {
   "cell_type": "code",
   "execution_count": 111,
   "metadata": {},
   "outputs": [
    {
     "data": {
      "text/plain": [
       "9"
      ]
     },
     "metadata": {},
     "output_type": "display_data"
    },
    {
     "data": {
      "text/plain": [
       "array([' 16 gb  ', ' 64 gb  ', ' 128 gb  ', ' 32 gb  ', ' 8 gb  ',\n",
       "       ' 256 gb  ', '64gb', ' 4 gb  ', ' 2.5 gb  '], dtype=object)"
      ]
     },
     "metadata": {},
     "output_type": "display_data"
    }
   ],
   "source": [
    "display(len(df2.rom.unique()), df2.rom.unique())"
   ]
  },
  {
   "cell_type": "code",
   "execution_count": 112,
   "metadata": {},
   "outputs": [],
   "source": [
    "df2['rom'] = df2['rom'].str.split(\"g\").str[0]"
   ]
  },
  {
   "cell_type": "code",
   "execution_count": 113,
   "metadata": {},
   "outputs": [
    {
     "data": {
      "text/plain": [
       "9"
      ]
     },
     "metadata": {},
     "output_type": "display_data"
    },
    {
     "data": {
      "text/plain": [
       "array([' 16 ', ' 64 ', ' 128 ', ' 32 ', ' 8 ', ' 256 ', '64', ' 4 ',\n",
       "       ' 2.5 '], dtype=object)"
      ]
     },
     "metadata": {},
     "output_type": "display_data"
    }
   ],
   "source": [
    "display(len(df2.rom.unique()), df2.rom.unique())"
   ]
  },
  {
   "cell_type": "code",
   "execution_count": 114,
   "metadata": {},
   "outputs": [
    {
     "data": {
      "text/plain": [
       "11"
      ]
     },
     "metadata": {},
     "output_type": "display_data"
    },
    {
     "data": {
      "text/plain": [
       "array(['  256 gb', '  128 gb', '  32 gb', '  2 tb', '  64 gb', '  512 gb',\n",
       "       '32gb', '128gb', '256gb', '257gb', '512gb'], dtype=object)"
      ]
     },
     "metadata": {},
     "output_type": "display_data"
    }
   ],
   "source": [
    "display(len(df2['expandable_gb/tb'].unique()), df2['expandable_gb/tb'].unique())"
   ]
  },
  {
   "cell_type": "code",
   "execution_count": 115,
   "metadata": {},
   "outputs": [],
   "source": [
    "df2['expandable_gb/tb'] = df2['expandable_gb/tb'].str.split(\"g\").str[0]"
   ]
  },
  {
   "cell_type": "code",
   "execution_count": 116,
   "metadata": {},
   "outputs": [],
   "source": [
    "df2['expandable_gb/tb'] = df2['expandable_gb/tb'].str.split(\"t\").str[0]"
   ]
  },
  {
   "cell_type": "code",
   "execution_count": 117,
   "metadata": {},
   "outputs": [
    {
     "data": {
      "text/plain": [
       "11"
      ]
     },
     "metadata": {},
     "output_type": "display_data"
    },
    {
     "data": {
      "text/plain": [
       "array(['  256 ', '  128 ', '  32 ', '  2 ', '  64 ', '  512 ', '32',\n",
       "       '128', '256', '257', '512'], dtype=object)"
      ]
     },
     "metadata": {},
     "output_type": "display_data"
    }
   ],
   "source": [
    "display(len(df2['expandable_gb/tb'].unique()), df2['expandable_gb/tb'].unique())"
   ]
  },
  {
   "cell_type": "code",
   "execution_count": 118,
   "metadata": {},
   "outputs": [
    {
     "data": {
      "text/html": [
       "<div>\n",
       "<style scoped>\n",
       "    .dataframe tbody tr th:only-of-type {\n",
       "        vertical-align: middle;\n",
       "    }\n",
       "\n",
       "    .dataframe tbody tr th {\n",
       "        vertical-align: top;\n",
       "    }\n",
       "\n",
       "    .dataframe thead th {\n",
       "        text-align: right;\n",
       "    }\n",
       "</style>\n",
       "<table border=\"1\" class=\"dataframe\">\n",
       "  <thead>\n",
       "    <tr style=\"text-align: right;\">\n",
       "      <th></th>\n",
       "      <th>price_in_rupees</th>\n",
       "      <th>mobiles</th>\n",
       "      <th>colors</th>\n",
       "      <th>off(%)</th>\n",
       "      <th>ram</th>\n",
       "      <th>rom</th>\n",
       "      <th>expandable_gb/tb</th>\n",
       "      <th>dual_sim</th>\n",
       "      <th>screen_in_inch</th>\n",
       "      <th>display</th>\n",
       "      <th>secondary_camera(mp)</th>\n",
       "      <th>primary_camera(mp)</th>\n",
       "      <th>battery_details</th>\n",
       "      <th>warranty(year)</th>\n",
       "      <th>rating</th>\n",
       "    </tr>\n",
       "  </thead>\n",
       "  <tbody>\n",
       "    <tr>\n",
       "      <th>0</th>\n",
       "      <td>5999</td>\n",
       "      <td>others</td>\n",
       "      <td>black</td>\n",
       "      <td>14</td>\n",
       "      <td>2</td>\n",
       "      <td>16</td>\n",
       "      <td>256</td>\n",
       "      <td>yes</td>\n",
       "      <td>6.1</td>\n",
       "      <td>hd</td>\n",
       "      <td>5</td>\n",
       "      <td>13 + 2</td>\n",
       "      <td>4000</td>\n",
       "      <td>1</td>\n",
       "      <td>4.5</td>\n",
       "    </tr>\n",
       "    <tr>\n",
       "      <th>1</th>\n",
       "      <td>5999</td>\n",
       "      <td>others</td>\n",
       "      <td>others</td>\n",
       "      <td>14</td>\n",
       "      <td>2</td>\n",
       "      <td>16</td>\n",
       "      <td>256</td>\n",
       "      <td>yes</td>\n",
       "      <td>6.1</td>\n",
       "      <td>hd</td>\n",
       "      <td>5</td>\n",
       "      <td>13 + 2</td>\n",
       "      <td>4000</td>\n",
       "      <td>1</td>\n",
       "      <td>4.5</td>\n",
       "    </tr>\n",
       "  </tbody>\n",
       "</table>\n",
       "</div>"
      ],
      "text/plain": [
       "  price_in_rupees mobiles  colors off(%) ram   rom expandable_gb/tb dual_sim  \\\n",
       "0            5999  others   black     14   2   16              256       yes   \n",
       "1            5999  others  others     14   2   16              256       yes   \n",
       "\n",
       "  screen_in_inch display secondary_camera(mp) primary_camera(mp)  \\\n",
       "0            6.1      hd                    5            13 + 2    \n",
       "1            6.1      hd                    5            13 + 2    \n",
       "\n",
       "  battery_details warranty(year) rating  \n",
       "0            4000              1    4.5  \n",
       "1            4000              1    4.5  "
      ]
     },
     "execution_count": 118,
     "metadata": {},
     "output_type": "execute_result"
    }
   ],
   "source": [
    "df2.head(2)"
   ]
  },
  {
   "cell_type": "markdown",
   "metadata": {},
   "source": [
    "#### Dual SIM"
   ]
  },
  {
   "cell_type": "code",
   "execution_count": 119,
   "metadata": {},
   "outputs": [
    {
     "data": {
      "text/plain": [
       "1"
      ]
     },
     "metadata": {},
     "output_type": "display_data"
    },
    {
     "data": {
      "text/plain": [
       "array(['yes'], dtype=object)"
      ]
     },
     "metadata": {},
     "output_type": "display_data"
    }
   ],
   "source": [
    "display(len(df2['dual_sim'].unique()), df2['dual_sim'].unique())"
   ]
  },
  {
   "cell_type": "code",
   "execution_count": 120,
   "metadata": {},
   "outputs": [],
   "source": [
    "df2.drop(['dual_sim'], axis = 1, inplace = True) #dropping this variable is its variance is 0"
   ]
  },
  {
   "cell_type": "code",
   "execution_count": 121,
   "metadata": {},
   "outputs": [
    {
     "data": {
      "text/html": [
       "<div>\n",
       "<style scoped>\n",
       "    .dataframe tbody tr th:only-of-type {\n",
       "        vertical-align: middle;\n",
       "    }\n",
       "\n",
       "    .dataframe tbody tr th {\n",
       "        vertical-align: top;\n",
       "    }\n",
       "\n",
       "    .dataframe thead th {\n",
       "        text-align: right;\n",
       "    }\n",
       "</style>\n",
       "<table border=\"1\" class=\"dataframe\">\n",
       "  <thead>\n",
       "    <tr style=\"text-align: right;\">\n",
       "      <th></th>\n",
       "      <th>price_in_rupees</th>\n",
       "      <th>mobiles</th>\n",
       "      <th>colors</th>\n",
       "      <th>off(%)</th>\n",
       "      <th>ram</th>\n",
       "      <th>rom</th>\n",
       "      <th>expandable_gb/tb</th>\n",
       "      <th>screen_in_inch</th>\n",
       "      <th>display</th>\n",
       "      <th>secondary_camera(mp)</th>\n",
       "      <th>primary_camera(mp)</th>\n",
       "      <th>battery_details</th>\n",
       "      <th>warranty(year)</th>\n",
       "      <th>rating</th>\n",
       "    </tr>\n",
       "  </thead>\n",
       "  <tbody>\n",
       "    <tr>\n",
       "      <th>0</th>\n",
       "      <td>5999</td>\n",
       "      <td>others</td>\n",
       "      <td>black</td>\n",
       "      <td>14</td>\n",
       "      <td>2</td>\n",
       "      <td>16</td>\n",
       "      <td>256</td>\n",
       "      <td>6.1</td>\n",
       "      <td>hd</td>\n",
       "      <td>5</td>\n",
       "      <td>13 + 2</td>\n",
       "      <td>4000</td>\n",
       "      <td>1</td>\n",
       "      <td>4.5</td>\n",
       "    </tr>\n",
       "    <tr>\n",
       "      <th>1</th>\n",
       "      <td>5999</td>\n",
       "      <td>others</td>\n",
       "      <td>others</td>\n",
       "      <td>14</td>\n",
       "      <td>2</td>\n",
       "      <td>16</td>\n",
       "      <td>256</td>\n",
       "      <td>6.1</td>\n",
       "      <td>hd</td>\n",
       "      <td>5</td>\n",
       "      <td>13 + 2</td>\n",
       "      <td>4000</td>\n",
       "      <td>1</td>\n",
       "      <td>4.5</td>\n",
       "    </tr>\n",
       "  </tbody>\n",
       "</table>\n",
       "</div>"
      ],
      "text/plain": [
       "  price_in_rupees mobiles  colors off(%) ram   rom expandable_gb/tb  \\\n",
       "0            5999  others   black     14   2   16              256    \n",
       "1            5999  others  others     14   2   16              256    \n",
       "\n",
       "  screen_in_inch display secondary_camera(mp) primary_camera(mp)  \\\n",
       "0            6.1      hd                    5            13 + 2    \n",
       "1            6.1      hd                    5            13 + 2    \n",
       "\n",
       "  battery_details warranty(year) rating  \n",
       "0            4000              1    4.5  \n",
       "1            4000              1    4.5  "
      ]
     },
     "execution_count": 121,
     "metadata": {},
     "output_type": "execute_result"
    }
   ],
   "source": [
    "df2.head(2)"
   ]
  },
  {
   "cell_type": "markdown",
   "metadata": {},
   "source": [
    "##### screen_in_inch"
   ]
  },
  {
   "cell_type": "code",
   "execution_count": 122,
   "metadata": {},
   "outputs": [
    {
     "data": {
      "text/plain": [
       "31"
      ]
     },
     "metadata": {},
     "output_type": "display_data"
    },
    {
     "data": {
      "text/plain": [
       "array(['6.1', '5.5', '5.0', '5.2', '6.2', '6.3', '6.22', '5.7', '5.99',\n",
       "       '5.45', '6.5', '5.34', '6.26', '6.21', '5.85', '5.6', '6.0',\n",
       "       '6.18', '4.5', '5.9', '6.35', '5.8', '5.65', '6.4', '6.53', '6.39',\n",
       "       '6.6', '4.7', '6.7', '4.69', '6.19'], dtype=object)"
      ]
     },
     "metadata": {},
     "output_type": "display_data"
    }
   ],
   "source": [
    "display(len(df2['screen_in_inch'].unique()), df2['screen_in_inch'].unique())"
   ]
  },
  {
   "cell_type": "code",
   "execution_count": 123,
   "metadata": {},
   "outputs": [],
   "source": [
    "df2.loc[:, 'screen_in_inch'] = df2.loc[:, 'screen_in_inch'].astype('float')"
   ]
  },
  {
   "cell_type": "code",
   "execution_count": 124,
   "metadata": {},
   "outputs": [
    {
     "data": {
      "text/plain": [
       "31"
      ]
     },
     "metadata": {},
     "output_type": "display_data"
    },
    {
     "data": {
      "text/plain": [
       "array([6.1 , 5.5 , 5.  , 5.2 , 6.2 , 6.3 , 6.22, 5.7 , 5.99, 5.45, 6.5 ,\n",
       "       5.34, 6.26, 6.21, 5.85, 5.6 , 6.  , 6.18, 4.5 , 5.9 , 6.35, 5.8 ,\n",
       "       5.65, 6.4 , 6.53, 6.39, 6.6 , 4.7 , 6.7 , 4.69, 6.19])"
      ]
     },
     "metadata": {},
     "output_type": "display_data"
    }
   ],
   "source": [
    "display(len(df2['screen_in_inch'].unique()), df2['screen_in_inch'].unique())"
   ]
  },
  {
   "cell_type": "code",
   "execution_count": null,
   "metadata": {},
   "outputs": [],
   "source": []
  },
  {
   "cell_type": "markdown",
   "metadata": {},
   "source": [
    "##### display"
   ]
  },
  {
   "cell_type": "code",
   "execution_count": 125,
   "metadata": {},
   "outputs": [
    {
     "data": {
      "text/html": [
       "<div>\n",
       "<style scoped>\n",
       "    .dataframe tbody tr th:only-of-type {\n",
       "        vertical-align: middle;\n",
       "    }\n",
       "\n",
       "    .dataframe tbody tr th {\n",
       "        vertical-align: top;\n",
       "    }\n",
       "\n",
       "    .dataframe thead th {\n",
       "        text-align: right;\n",
       "    }\n",
       "</style>\n",
       "<table border=\"1\" class=\"dataframe\">\n",
       "  <thead>\n",
       "    <tr style=\"text-align: right;\">\n",
       "      <th></th>\n",
       "      <th>price_in_rupees</th>\n",
       "      <th>mobiles</th>\n",
       "      <th>colors</th>\n",
       "      <th>off(%)</th>\n",
       "      <th>ram</th>\n",
       "      <th>rom</th>\n",
       "      <th>expandable_gb/tb</th>\n",
       "      <th>screen_in_inch</th>\n",
       "      <th>display</th>\n",
       "      <th>secondary_camera(mp)</th>\n",
       "      <th>primary_camera(mp)</th>\n",
       "      <th>battery_details</th>\n",
       "      <th>warranty(year)</th>\n",
       "      <th>rating</th>\n",
       "    </tr>\n",
       "  </thead>\n",
       "  <tbody>\n",
       "    <tr>\n",
       "      <th>0</th>\n",
       "      <td>5999</td>\n",
       "      <td>others</td>\n",
       "      <td>black</td>\n",
       "      <td>14</td>\n",
       "      <td>2</td>\n",
       "      <td>16</td>\n",
       "      <td>256</td>\n",
       "      <td>6.1</td>\n",
       "      <td>hd</td>\n",
       "      <td>5</td>\n",
       "      <td>13 + 2</td>\n",
       "      <td>4000</td>\n",
       "      <td>1</td>\n",
       "      <td>4.5</td>\n",
       "    </tr>\n",
       "    <tr>\n",
       "      <th>1</th>\n",
       "      <td>5999</td>\n",
       "      <td>others</td>\n",
       "      <td>others</td>\n",
       "      <td>14</td>\n",
       "      <td>2</td>\n",
       "      <td>16</td>\n",
       "      <td>256</td>\n",
       "      <td>6.1</td>\n",
       "      <td>hd</td>\n",
       "      <td>5</td>\n",
       "      <td>13 + 2</td>\n",
       "      <td>4000</td>\n",
       "      <td>1</td>\n",
       "      <td>4.5</td>\n",
       "    </tr>\n",
       "  </tbody>\n",
       "</table>\n",
       "</div>"
      ],
      "text/plain": [
       "  price_in_rupees mobiles  colors off(%) ram   rom expandable_gb/tb  \\\n",
       "0            5999  others   black     14   2   16              256    \n",
       "1            5999  others  others     14   2   16              256    \n",
       "\n",
       "   screen_in_inch display secondary_camera(mp) primary_camera(mp)  \\\n",
       "0             6.1      hd                    5            13 + 2    \n",
       "1             6.1      hd                    5            13 + 2    \n",
       "\n",
       "  battery_details warranty(year) rating  \n",
       "0            4000              1    4.5  \n",
       "1            4000              1    4.5  "
      ]
     },
     "execution_count": 125,
     "metadata": {},
     "output_type": "execute_result"
    }
   ],
   "source": [
    "df2.head(2)"
   ]
  },
  {
   "cell_type": "code",
   "execution_count": 126,
   "metadata": {},
   "outputs": [
    {
     "data": {
      "text/plain": [
       "12"
      ]
     },
     "metadata": {},
     "output_type": "display_data"
    },
    {
     "data": {
      "text/plain": [
       "array(['hd', 'fullhddisplay', 'hddisplay', 'fhd', 'fullhd',\n",
       "       'fwvgadisplay', 'nadisplay', 'quadhddisplay', 'quarterhddisplay',\n",
       "       'fwvga', 'retinahddisplay', 'quadhd'], dtype=object)"
      ]
     },
     "metadata": {},
     "output_type": "display_data"
    }
   ],
   "source": [
    "display(len(df2['display'].unique()), df2['display'].unique())"
   ]
  },
  {
   "cell_type": "code",
   "execution_count": 127,
   "metadata": {
    "scrolled": true
   },
   "outputs": [
    {
     "data": {
      "text/html": [
       "<div>\n",
       "<style scoped>\n",
       "    .dataframe tbody tr th:only-of-type {\n",
       "        vertical-align: middle;\n",
       "    }\n",
       "\n",
       "    .dataframe tbody tr th {\n",
       "        vertical-align: top;\n",
       "    }\n",
       "\n",
       "    .dataframe thead th {\n",
       "        text-align: right;\n",
       "    }\n",
       "</style>\n",
       "<table border=\"1\" class=\"dataframe\">\n",
       "  <thead>\n",
       "    <tr style=\"text-align: right;\">\n",
       "      <th></th>\n",
       "      <th>price_in_rupees</th>\n",
       "      <th>mobiles</th>\n",
       "      <th>colors</th>\n",
       "      <th>off(%)</th>\n",
       "      <th>ram</th>\n",
       "      <th>rom</th>\n",
       "      <th>expandable_gb/tb</th>\n",
       "      <th>screen_in_inch</th>\n",
       "      <th>display</th>\n",
       "      <th>secondary_camera(mp)</th>\n",
       "      <th>primary_camera(mp)</th>\n",
       "      <th>battery_details</th>\n",
       "      <th>warranty(year)</th>\n",
       "      <th>rating</th>\n",
       "    </tr>\n",
       "  </thead>\n",
       "  <tbody>\n",
       "    <tr>\n",
       "      <th>54</th>\n",
       "      <td>3699</td>\n",
       "      <td>others</td>\n",
       "      <td>black</td>\n",
       "      <td>2</td>\n",
       "      <td>1</td>\n",
       "      <td>8</td>\n",
       "      <td>32</td>\n",
       "      <td>5.34</td>\n",
       "      <td>nadisplay</td>\n",
       "      <td>5</td>\n",
       "      <td>5</td>\n",
       "      <td>2700</td>\n",
       "      <td>0</td>\n",
       "      <td>4.1</td>\n",
       "    </tr>\n",
       "  </tbody>\n",
       "</table>\n",
       "</div>"
      ],
      "text/plain": [
       "   price_in_rupees mobiles colors off(%) ram  rom expandable_gb/tb  \\\n",
       "54            3699  others  black      2   1   8               32    \n",
       "\n",
       "    screen_in_inch    display secondary_camera(mp) primary_camera(mp)  \\\n",
       "54            5.34  nadisplay                    5                  5   \n",
       "\n",
       "   battery_details warranty(year) rating  \n",
       "54            2700              0    4.1  "
      ]
     },
     "execution_count": 127,
     "metadata": {},
     "output_type": "execute_result"
    }
   ],
   "source": [
    "df2.loc[df2.display.str.contains('nadisplay'), ]"
   ]
  },
  {
   "cell_type": "code",
   "execution_count": 128,
   "metadata": {},
   "outputs": [],
   "source": [
    "df2 = df2.loc[~df2.display.str.contains('nadisplay'), ] #removing na display row"
   ]
  },
  {
   "cell_type": "code",
   "execution_count": 129,
   "metadata": {},
   "outputs": [
    {
     "data": {
      "text/plain": [
       "11"
      ]
     },
     "metadata": {},
     "output_type": "display_data"
    },
    {
     "data": {
      "text/plain": [
       "array(['hd', 'fullhddisplay', 'hddisplay', 'fhd', 'fullhd',\n",
       "       'fwvgadisplay', 'quadhddisplay', 'quarterhddisplay', 'fwvga',\n",
       "       'retinahddisplay', 'quadhd'], dtype=object)"
      ]
     },
     "metadata": {},
     "output_type": "display_data"
    }
   ],
   "source": [
    "display(len(df2['display'].unique()), df2['display'].unique())"
   ]
  },
  {
   "cell_type": "code",
   "execution_count": 130,
   "metadata": {},
   "outputs": [],
   "source": [
    "# tentative display list - display_list = ['hd', 'fhd', 'fwvga', 'quadhd', 'quarterhd', 'retina']\n",
    "df2.loc[df2['display'].isin(['hd', 'hddisplay']), 'display'] = 'hd'\n",
    "df2.loc[df2['display'].isin(['fullhddisplay', 'fhd', 'fullhd']), 'display'] = 'fhd'\n",
    "df2.loc[df2['display'].isin(['fwvgadisplay', 'fwvga']), 'display'] = 'fwvga'\n",
    "df2.loc[df2['display'].isin(['quadhddisplay', 'quadhd']), 'display'] = 'quadhd'\n",
    "df2.loc[df2['display'].isin(['quarterhddisplay']), 'display'] = 'quarterhd'\n",
    "df2.loc[df2['display'].isin(['retinahddisplay']), 'display'] = 'retinahd'"
   ]
  },
  {
   "cell_type": "code",
   "execution_count": 131,
   "metadata": {},
   "outputs": [
    {
     "data": {
      "text/plain": [
       "6"
      ]
     },
     "metadata": {},
     "output_type": "display_data"
    },
    {
     "data": {
      "text/plain": [
       "array(['hd', 'fhd', 'fwvga', 'quadhd', 'quarterhd', 'retinahd'],\n",
       "      dtype=object)"
      ]
     },
     "metadata": {},
     "output_type": "display_data"
    }
   ],
   "source": [
    "display(len(df2['display'].unique()), df2['display'].unique())"
   ]
  },
  {
   "cell_type": "code",
   "execution_count": 132,
   "metadata": {},
   "outputs": [
    {
     "data": {
      "text/html": [
       "<div>\n",
       "<style scoped>\n",
       "    .dataframe tbody tr th:only-of-type {\n",
       "        vertical-align: middle;\n",
       "    }\n",
       "\n",
       "    .dataframe tbody tr th {\n",
       "        vertical-align: top;\n",
       "    }\n",
       "\n",
       "    .dataframe thead th {\n",
       "        text-align: right;\n",
       "    }\n",
       "</style>\n",
       "<table border=\"1\" class=\"dataframe\">\n",
       "  <thead>\n",
       "    <tr style=\"text-align: right;\">\n",
       "      <th></th>\n",
       "      <th>price_in_rupees</th>\n",
       "      <th>mobiles</th>\n",
       "      <th>colors</th>\n",
       "      <th>off(%)</th>\n",
       "      <th>ram</th>\n",
       "      <th>rom</th>\n",
       "      <th>expandable_gb/tb</th>\n",
       "      <th>screen_in_inch</th>\n",
       "      <th>display</th>\n",
       "      <th>secondary_camera(mp)</th>\n",
       "      <th>primary_camera(mp)</th>\n",
       "      <th>battery_details</th>\n",
       "      <th>warranty(year)</th>\n",
       "      <th>rating</th>\n",
       "    </tr>\n",
       "  </thead>\n",
       "  <tbody>\n",
       "    <tr>\n",
       "      <th>0</th>\n",
       "      <td>5999</td>\n",
       "      <td>others</td>\n",
       "      <td>black</td>\n",
       "      <td>14</td>\n",
       "      <td>2</td>\n",
       "      <td>16</td>\n",
       "      <td>256</td>\n",
       "      <td>6.1</td>\n",
       "      <td>hd</td>\n",
       "      <td>5</td>\n",
       "      <td>13 + 2</td>\n",
       "      <td>4000</td>\n",
       "      <td>1</td>\n",
       "      <td>4.5</td>\n",
       "    </tr>\n",
       "    <tr>\n",
       "      <th>1</th>\n",
       "      <td>5999</td>\n",
       "      <td>others</td>\n",
       "      <td>others</td>\n",
       "      <td>14</td>\n",
       "      <td>2</td>\n",
       "      <td>16</td>\n",
       "      <td>256</td>\n",
       "      <td>6.1</td>\n",
       "      <td>hd</td>\n",
       "      <td>5</td>\n",
       "      <td>13 + 2</td>\n",
       "      <td>4000</td>\n",
       "      <td>1</td>\n",
       "      <td>4.5</td>\n",
       "    </tr>\n",
       "  </tbody>\n",
       "</table>\n",
       "</div>"
      ],
      "text/plain": [
       "  price_in_rupees mobiles  colors off(%) ram   rom expandable_gb/tb  \\\n",
       "0            5999  others   black     14   2   16              256    \n",
       "1            5999  others  others     14   2   16              256    \n",
       "\n",
       "   screen_in_inch display secondary_camera(mp) primary_camera(mp)  \\\n",
       "0             6.1      hd                    5            13 + 2    \n",
       "1             6.1      hd                    5            13 + 2    \n",
       "\n",
       "  battery_details warranty(year) rating  \n",
       "0            4000              1    4.5  \n",
       "1            4000              1    4.5  "
      ]
     },
     "execution_count": 132,
     "metadata": {},
     "output_type": "execute_result"
    }
   ],
   "source": [
    "df2.head(2)"
   ]
  },
  {
   "cell_type": "code",
   "execution_count": null,
   "metadata": {},
   "outputs": [],
   "source": []
  },
  {
   "cell_type": "markdown",
   "metadata": {},
   "source": [
    "#### Secondary and primary camera"
   ]
  },
  {
   "cell_type": "code",
   "execution_count": 133,
   "metadata": {
    "scrolled": true
   },
   "outputs": [
    {
     "data": {
      "text/plain": [
       "12"
      ]
     },
     "metadata": {},
     "output_type": "display_data"
    },
    {
     "data": {
      "text/plain": [
       "array(['5', '8', '13', '25', '16', '2', '0', '20', '24', '32', '48', '1'],\n",
       "      dtype=object)"
      ]
     },
     "metadata": {},
     "output_type": "display_data"
    }
   ],
   "source": [
    "# Secondary camera\n",
    "display(len(df2['secondary_camera(mp)'].unique()), df2['secondary_camera(mp)'].unique())"
   ]
  },
  {
   "cell_type": "code",
   "execution_count": 134,
   "metadata": {},
   "outputs": [],
   "source": [
    "df2.loc[:, 'secondary_camera(mp)'] = df2.loc[:, 'secondary_camera(mp)'].astype('int')"
   ]
  },
  {
   "cell_type": "code",
   "execution_count": 135,
   "metadata": {},
   "outputs": [
    {
     "data": {
      "text/plain": [
       "12"
      ]
     },
     "metadata": {},
     "output_type": "display_data"
    },
    {
     "data": {
      "text/plain": [
       "array([ 5,  8, 13, 25, 16,  2,  0, 20, 24, 32, 48,  1], dtype=int64)"
      ]
     },
     "metadata": {},
     "output_type": "display_data"
    }
   ],
   "source": [
    "display(len(df2['secondary_camera(mp)'].unique()), df2['secondary_camera(mp)'].unique())"
   ]
  },
  {
   "cell_type": "code",
   "execution_count": null,
   "metadata": {},
   "outputs": [],
   "source": []
  },
  {
   "cell_type": "code",
   "execution_count": 136,
   "metadata": {
    "scrolled": true
   },
   "outputs": [
    {
     "data": {
      "text/plain": [
       "32"
      ]
     },
     "metadata": {},
     "output_type": "display_data"
    },
    {
     "data": {
      "text/plain": [
       "array(['13 + 2 ', '13', '8', '48 + 5 ', '13 + 5 ', '16 + 5 ', '12 + 5 ',\n",
       "       '5', '2', '16 + 2 ', '13 + 2  ', '12', '12 + 12 ', '8 + 0.3 ',\n",
       "       '13 + 2', '16', '25 + 5 + 8 ', '24 + 5 + 8 ',\n",
       "       '13 + 2 depth sensor + 8 wide angle sensor ', '12 + 2 ',\n",
       "       '12 (24 million photosensitive units) + 8 + 5 5 + 8 ',\n",
       "       '48 million quad pixel sensor (12 million effective pixel) + 8 + 5',\n",
       "       '48', '12.2', '24 + 5 + 10 +8 ', '13 + 13 ', '21', '32 + 5 + 8 ',\n",
       "       '12 + 13 ', '48 + 13 ', '20 + 2 ', '13 + 2 + low light sensor '],\n",
       "      dtype=object)"
      ]
     },
     "metadata": {},
     "output_type": "display_data"
    }
   ],
   "source": [
    "# Primary camera\n",
    "display(len(df2['primary_camera(mp)'].unique()), df2['primary_camera(mp)'].unique())"
   ]
  },
  {
   "cell_type": "code",
   "execution_count": 137,
   "metadata": {},
   "outputs": [
    {
     "data": {
      "text/html": [
       "<div>\n",
       "<style scoped>\n",
       "    .dataframe tbody tr th:only-of-type {\n",
       "        vertical-align: middle;\n",
       "    }\n",
       "\n",
       "    .dataframe tbody tr th {\n",
       "        vertical-align: top;\n",
       "    }\n",
       "\n",
       "    .dataframe thead th {\n",
       "        text-align: right;\n",
       "    }\n",
       "</style>\n",
       "<table border=\"1\" class=\"dataframe\">\n",
       "  <thead>\n",
       "    <tr style=\"text-align: right;\">\n",
       "      <th></th>\n",
       "      <th>price_in_rupees</th>\n",
       "      <th>mobiles</th>\n",
       "      <th>colors</th>\n",
       "      <th>off(%)</th>\n",
       "      <th>ram</th>\n",
       "      <th>rom</th>\n",
       "      <th>expandable_gb/tb</th>\n",
       "      <th>dual_sim</th>\n",
       "      <th>screen_in_inch</th>\n",
       "      <th>display</th>\n",
       "      <th>secondary_camera(mp)</th>\n",
       "      <th>primary_camera(mp)</th>\n",
       "      <th>battery_details</th>\n",
       "      <th>warranty(year)</th>\n",
       "      <th>rating</th>\n",
       "    </tr>\n",
       "  </thead>\n",
       "  <tbody>\n",
       "    <tr>\n",
       "      <th>458</th>\n",
       "      <td>28990</td>\n",
       "      <td>SamsungGalaxyA70</td>\n",
       "      <td>Black</td>\n",
       "      <td>6</td>\n",
       "      <td>6 GB</td>\n",
       "      <td>128 GB</td>\n",
       "      <td>512 GB</td>\n",
       "      <td>yes</td>\n",
       "      <td>6.7</td>\n",
       "      <td>FHD</td>\n",
       "      <td>32</td>\n",
       "      <td>32 + 5 + 8</td>\n",
       "      <td>4500</td>\n",
       "      <td>1</td>\n",
       "      <td>4.4</td>\n",
       "    </tr>\n",
       "    <tr>\n",
       "      <th>460</th>\n",
       "      <td>28990</td>\n",
       "      <td>SamsungGalaxyA70</td>\n",
       "      <td>White</td>\n",
       "      <td>6</td>\n",
       "      <td>6 GB</td>\n",
       "      <td>128 GB</td>\n",
       "      <td>512 GB</td>\n",
       "      <td>yes</td>\n",
       "      <td>6.7</td>\n",
       "      <td>FHD</td>\n",
       "      <td>32</td>\n",
       "      <td>32 + 5 + 8</td>\n",
       "      <td>4500</td>\n",
       "      <td>1</td>\n",
       "      <td>4.4</td>\n",
       "    </tr>\n",
       "    <tr>\n",
       "      <th>483</th>\n",
       "      <td>28990</td>\n",
       "      <td>SamsungGalaxyA70</td>\n",
       "      <td>Blue</td>\n",
       "      <td>6</td>\n",
       "      <td>6 GB</td>\n",
       "      <td>128 GB</td>\n",
       "      <td>512 GB</td>\n",
       "      <td>yes</td>\n",
       "      <td>6.7</td>\n",
       "      <td>FHD</td>\n",
       "      <td>32</td>\n",
       "      <td>32 + 5 + 8</td>\n",
       "      <td>4500</td>\n",
       "      <td>1</td>\n",
       "      <td>4.4</td>\n",
       "    </tr>\n",
       "  </tbody>\n",
       "</table>\n",
       "</div>"
      ],
      "text/plain": [
       "     price_in_rupees           mobiles colors  off(%)     ram        rom  \\\n",
       "458            28990  SamsungGalaxyA70  Black       6  6 GB     128 GB     \n",
       "460            28990  SamsungGalaxyA70  White       6  6 GB     128 GB     \n",
       "483            28990  SamsungGalaxyA70   Blue       6  6 GB     128 GB     \n",
       "\n",
       "    expandable_gb/tb dual_sim  screen_in_inch display  secondary_camera(mp)  \\\n",
       "458           512 GB      yes             6.7     FHD                    32   \n",
       "460           512 GB      yes             6.7     FHD                    32   \n",
       "483           512 GB      yes             6.7     FHD                    32   \n",
       "\n",
       "    primary_camera(mp)  battery_details  warranty(year)  rating  \n",
       "458        32 + 5 + 8              4500               1     4.4  \n",
       "460        32 + 5 + 8              4500               1     4.4  \n",
       "483        32 + 5 + 8              4500               1     4.4  "
      ]
     },
     "execution_count": 137,
     "metadata": {},
     "output_type": "execute_result"
    }
   ],
   "source": [
    "df1.loc[df1['primary_camera(mp)'] == '32 + 5 + 8 ', ]"
   ]
  },
  {
   "cell_type": "code",
   "execution_count": 138,
   "metadata": {},
   "outputs": [],
   "source": [
    "# Creating new variable of maximum pixels of the phone\n",
    "import re\n",
    "\n",
    "# Function to derive pixels\n",
    "def pixels(ip_string):\n",
    "    try:\n",
    "        out = float(re.findall('\\d*\\.\\d+|\\d+', ip_string.strip().replace(\" \", \"\"))[0])\n",
    "    except:\n",
    "        out = 0\n",
    "#     print(\"pixels \" + str(out))\n",
    "    return out\n",
    "\n",
    "# Function to derive maximum pixels\n",
    "def max_pixels(string):\n",
    "    a = string.split(\"+\") \n",
    "#     print(a)\n",
    "    out = max([pixels(a[i]) for i in range(len(a))])    \n",
    "#     print(out)\n",
    "    return(out)"
   ]
  },
  {
   "cell_type": "code",
   "execution_count": 139,
   "metadata": {},
   "outputs": [],
   "source": [
    "df2['primary_camera_max_pixels'] = df2['primary_camera(mp)'].apply(lambda x:max_pixels(x))"
   ]
  },
  {
   "cell_type": "code",
   "execution_count": 140,
   "metadata": {},
   "outputs": [
    {
     "data": {
      "text/plain": [
       "(318, 15)"
      ]
     },
     "metadata": {},
     "output_type": "display_data"
    },
    {
     "data": {
      "text/html": [
       "<div>\n",
       "<style scoped>\n",
       "    .dataframe tbody tr th:only-of-type {\n",
       "        vertical-align: middle;\n",
       "    }\n",
       "\n",
       "    .dataframe tbody tr th {\n",
       "        vertical-align: top;\n",
       "    }\n",
       "\n",
       "    .dataframe thead th {\n",
       "        text-align: right;\n",
       "    }\n",
       "</style>\n",
       "<table border=\"1\" class=\"dataframe\">\n",
       "  <thead>\n",
       "    <tr style=\"text-align: right;\">\n",
       "      <th></th>\n",
       "      <th>price_in_rupees</th>\n",
       "      <th>mobiles</th>\n",
       "      <th>colors</th>\n",
       "      <th>off(%)</th>\n",
       "      <th>ram</th>\n",
       "      <th>rom</th>\n",
       "      <th>expandable_gb/tb</th>\n",
       "      <th>screen_in_inch</th>\n",
       "      <th>display</th>\n",
       "      <th>secondary_camera(mp)</th>\n",
       "      <th>primary_camera(mp)</th>\n",
       "      <th>battery_details</th>\n",
       "      <th>warranty(year)</th>\n",
       "      <th>rating</th>\n",
       "      <th>primary_camera_max_pixels</th>\n",
       "    </tr>\n",
       "  </thead>\n",
       "  <tbody>\n",
       "    <tr>\n",
       "      <th>0</th>\n",
       "      <td>5999</td>\n",
       "      <td>others</td>\n",
       "      <td>black</td>\n",
       "      <td>14</td>\n",
       "      <td>2</td>\n",
       "      <td>16</td>\n",
       "      <td>256</td>\n",
       "      <td>6.1</td>\n",
       "      <td>hd</td>\n",
       "      <td>5</td>\n",
       "      <td>13 + 2</td>\n",
       "      <td>4000</td>\n",
       "      <td>1</td>\n",
       "      <td>4.5</td>\n",
       "      <td>13.0</td>\n",
       "    </tr>\n",
       "    <tr>\n",
       "      <th>1</th>\n",
       "      <td>5999</td>\n",
       "      <td>others</td>\n",
       "      <td>others</td>\n",
       "      <td>14</td>\n",
       "      <td>2</td>\n",
       "      <td>16</td>\n",
       "      <td>256</td>\n",
       "      <td>6.1</td>\n",
       "      <td>hd</td>\n",
       "      <td>5</td>\n",
       "      <td>13 + 2</td>\n",
       "      <td>4000</td>\n",
       "      <td>1</td>\n",
       "      <td>4.5</td>\n",
       "      <td>13.0</td>\n",
       "    </tr>\n",
       "  </tbody>\n",
       "</table>\n",
       "</div>"
      ],
      "text/plain": [
       "  price_in_rupees mobiles  colors off(%) ram   rom expandable_gb/tb  \\\n",
       "0            5999  others   black     14   2   16              256    \n",
       "1            5999  others  others     14   2   16              256    \n",
       "\n",
       "   screen_in_inch display  secondary_camera(mp) primary_camera(mp)  \\\n",
       "0             6.1      hd                     5            13 + 2    \n",
       "1             6.1      hd                     5            13 + 2    \n",
       "\n",
       "  battery_details warranty(year) rating  primary_camera_max_pixels  \n",
       "0            4000              1    4.5                       13.0  \n",
       "1            4000              1    4.5                       13.0  "
      ]
     },
     "metadata": {},
     "output_type": "display_data"
    }
   ],
   "source": [
    "display(df2.shape, df2.head(2))"
   ]
  },
  {
   "cell_type": "code",
   "execution_count": null,
   "metadata": {},
   "outputs": [],
   "source": []
  },
  {
   "cell_type": "code",
   "execution_count": 141,
   "metadata": {},
   "outputs": [],
   "source": [
    "# Creating new variable for number of cameras in a phone\n",
    "df2['num_of_cameras'] = df2['primary_camera(mp)'].apply(lambda x: x.count('+')) + 1"
   ]
  },
  {
   "cell_type": "code",
   "execution_count": 142,
   "metadata": {},
   "outputs": [
    {
     "data": {
      "text/plain": [
       "(318, 16)"
      ]
     },
     "metadata": {},
     "output_type": "display_data"
    },
    {
     "data": {
      "text/html": [
       "<div>\n",
       "<style scoped>\n",
       "    .dataframe tbody tr th:only-of-type {\n",
       "        vertical-align: middle;\n",
       "    }\n",
       "\n",
       "    .dataframe tbody tr th {\n",
       "        vertical-align: top;\n",
       "    }\n",
       "\n",
       "    .dataframe thead th {\n",
       "        text-align: right;\n",
       "    }\n",
       "</style>\n",
       "<table border=\"1\" class=\"dataframe\">\n",
       "  <thead>\n",
       "    <tr style=\"text-align: right;\">\n",
       "      <th></th>\n",
       "      <th>price_in_rupees</th>\n",
       "      <th>mobiles</th>\n",
       "      <th>colors</th>\n",
       "      <th>off(%)</th>\n",
       "      <th>ram</th>\n",
       "      <th>rom</th>\n",
       "      <th>expandable_gb/tb</th>\n",
       "      <th>screen_in_inch</th>\n",
       "      <th>display</th>\n",
       "      <th>secondary_camera(mp)</th>\n",
       "      <th>primary_camera(mp)</th>\n",
       "      <th>battery_details</th>\n",
       "      <th>warranty(year)</th>\n",
       "      <th>rating</th>\n",
       "      <th>primary_camera_max_pixels</th>\n",
       "      <th>num_of_cameras</th>\n",
       "    </tr>\n",
       "  </thead>\n",
       "  <tbody>\n",
       "    <tr>\n",
       "      <th>0</th>\n",
       "      <td>5999</td>\n",
       "      <td>others</td>\n",
       "      <td>black</td>\n",
       "      <td>14</td>\n",
       "      <td>2</td>\n",
       "      <td>16</td>\n",
       "      <td>256</td>\n",
       "      <td>6.1</td>\n",
       "      <td>hd</td>\n",
       "      <td>5</td>\n",
       "      <td>13 + 2</td>\n",
       "      <td>4000</td>\n",
       "      <td>1</td>\n",
       "      <td>4.5</td>\n",
       "      <td>13.0</td>\n",
       "      <td>2</td>\n",
       "    </tr>\n",
       "    <tr>\n",
       "      <th>1</th>\n",
       "      <td>5999</td>\n",
       "      <td>others</td>\n",
       "      <td>others</td>\n",
       "      <td>14</td>\n",
       "      <td>2</td>\n",
       "      <td>16</td>\n",
       "      <td>256</td>\n",
       "      <td>6.1</td>\n",
       "      <td>hd</td>\n",
       "      <td>5</td>\n",
       "      <td>13 + 2</td>\n",
       "      <td>4000</td>\n",
       "      <td>1</td>\n",
       "      <td>4.5</td>\n",
       "      <td>13.0</td>\n",
       "      <td>2</td>\n",
       "    </tr>\n",
       "  </tbody>\n",
       "</table>\n",
       "</div>"
      ],
      "text/plain": [
       "  price_in_rupees mobiles  colors off(%) ram   rom expandable_gb/tb  \\\n",
       "0            5999  others   black     14   2   16              256    \n",
       "1            5999  others  others     14   2   16              256    \n",
       "\n",
       "   screen_in_inch display  secondary_camera(mp) primary_camera(mp)  \\\n",
       "0             6.1      hd                     5            13 + 2    \n",
       "1             6.1      hd                     5            13 + 2    \n",
       "\n",
       "  battery_details warranty(year) rating  primary_camera_max_pixels  \\\n",
       "0            4000              1    4.5                       13.0   \n",
       "1            4000              1    4.5                       13.0   \n",
       "\n",
       "   num_of_cameras  \n",
       "0               2  \n",
       "1               2  "
      ]
     },
     "metadata": {},
     "output_type": "display_data"
    }
   ],
   "source": [
    "display(df2.shape, df2.head(2))"
   ]
  },
  {
   "cell_type": "code",
   "execution_count": 143,
   "metadata": {},
   "outputs": [],
   "source": [
    "#  Dropping the original variable\n",
    "df2.drop(['primary_camera(mp)'], axis = 1, inplace = True) #dropping the original variable"
   ]
  },
  {
   "cell_type": "code",
   "execution_count": 144,
   "metadata": {},
   "outputs": [
    {
     "data": {
      "text/plain": [
       "(318, 15)"
      ]
     },
     "metadata": {},
     "output_type": "display_data"
    },
    {
     "data": {
      "text/html": [
       "<div>\n",
       "<style scoped>\n",
       "    .dataframe tbody tr th:only-of-type {\n",
       "        vertical-align: middle;\n",
       "    }\n",
       "\n",
       "    .dataframe tbody tr th {\n",
       "        vertical-align: top;\n",
       "    }\n",
       "\n",
       "    .dataframe thead th {\n",
       "        text-align: right;\n",
       "    }\n",
       "</style>\n",
       "<table border=\"1\" class=\"dataframe\">\n",
       "  <thead>\n",
       "    <tr style=\"text-align: right;\">\n",
       "      <th></th>\n",
       "      <th>price_in_rupees</th>\n",
       "      <th>mobiles</th>\n",
       "      <th>colors</th>\n",
       "      <th>off(%)</th>\n",
       "      <th>ram</th>\n",
       "      <th>rom</th>\n",
       "      <th>expandable_gb/tb</th>\n",
       "      <th>screen_in_inch</th>\n",
       "      <th>display</th>\n",
       "      <th>secondary_camera(mp)</th>\n",
       "      <th>battery_details</th>\n",
       "      <th>warranty(year)</th>\n",
       "      <th>rating</th>\n",
       "      <th>primary_camera_max_pixels</th>\n",
       "      <th>num_of_cameras</th>\n",
       "    </tr>\n",
       "  </thead>\n",
       "  <tbody>\n",
       "    <tr>\n",
       "      <th>0</th>\n",
       "      <td>5999</td>\n",
       "      <td>others</td>\n",
       "      <td>black</td>\n",
       "      <td>14</td>\n",
       "      <td>2</td>\n",
       "      <td>16</td>\n",
       "      <td>256</td>\n",
       "      <td>6.1</td>\n",
       "      <td>hd</td>\n",
       "      <td>5</td>\n",
       "      <td>4000</td>\n",
       "      <td>1</td>\n",
       "      <td>4.5</td>\n",
       "      <td>13.0</td>\n",
       "      <td>2</td>\n",
       "    </tr>\n",
       "    <tr>\n",
       "      <th>1</th>\n",
       "      <td>5999</td>\n",
       "      <td>others</td>\n",
       "      <td>others</td>\n",
       "      <td>14</td>\n",
       "      <td>2</td>\n",
       "      <td>16</td>\n",
       "      <td>256</td>\n",
       "      <td>6.1</td>\n",
       "      <td>hd</td>\n",
       "      <td>5</td>\n",
       "      <td>4000</td>\n",
       "      <td>1</td>\n",
       "      <td>4.5</td>\n",
       "      <td>13.0</td>\n",
       "      <td>2</td>\n",
       "    </tr>\n",
       "  </tbody>\n",
       "</table>\n",
       "</div>"
      ],
      "text/plain": [
       "  price_in_rupees mobiles  colors off(%) ram   rom expandable_gb/tb  \\\n",
       "0            5999  others   black     14   2   16              256    \n",
       "1            5999  others  others     14   2   16              256    \n",
       "\n",
       "   screen_in_inch display  secondary_camera(mp) battery_details  \\\n",
       "0             6.1      hd                     5            4000   \n",
       "1             6.1      hd                     5            4000   \n",
       "\n",
       "  warranty(year) rating  primary_camera_max_pixels  num_of_cameras  \n",
       "0              1    4.5                       13.0               2  \n",
       "1              1    4.5                       13.0               2  "
      ]
     },
     "metadata": {},
     "output_type": "display_data"
    }
   ],
   "source": [
    "display(df2.shape, df2.head(2))"
   ]
  },
  {
   "cell_type": "code",
   "execution_count": null,
   "metadata": {},
   "outputs": [],
   "source": []
  },
  {
   "cell_type": "markdown",
   "metadata": {},
   "source": [
    "#### battery details"
   ]
  },
  {
   "cell_type": "code",
   "execution_count": 145,
   "metadata": {},
   "outputs": [
    {
     "data": {
      "text/plain": [
       "42"
      ]
     },
     "metadata": {},
     "output_type": "display_data"
    },
    {
     "data": {
      "text/plain": [
       "array(['4000', '3300', '2630', '3000', '2420', '4230', '3180', '5000',\n",
       "       '4045', '3080', '2200', '2050', '2000', '3900', '3500', '2600',\n",
       "       '3260', '3400', '4030', '3050', '2670', '2350', '3340', '2500',\n",
       "       '3060', '3020', '2300', '2800', '1800', '5100', '3700', '3800',\n",
       "       '4050', '3760', '4500', '4900', '2900', '2250', '2915', '3750',\n",
       "       '3225', '1850'], dtype=object)"
      ]
     },
     "metadata": {},
     "output_type": "display_data"
    }
   ],
   "source": [
    "display(len(df2['battery_details'].unique()), df2['battery_details'].unique())"
   ]
  },
  {
   "cell_type": "code",
   "execution_count": 146,
   "metadata": {},
   "outputs": [],
   "source": [
    "df2['battery_details'] = df2['battery_details'].astype('int')"
   ]
  },
  {
   "cell_type": "code",
   "execution_count": 147,
   "metadata": {},
   "outputs": [
    {
     "data": {
      "text/plain": [
       "42"
      ]
     },
     "metadata": {},
     "output_type": "display_data"
    },
    {
     "data": {
      "text/plain": [
       "array([4000, 3300, 2630, 3000, 2420, 4230, 3180, 5000, 4045, 3080, 2200,\n",
       "       2050, 2000, 3900, 3500, 2600, 3260, 3400, 4030, 3050, 2670, 2350,\n",
       "       3340, 2500, 3060, 3020, 2300, 2800, 1800, 5100, 3700, 3800, 4050,\n",
       "       3760, 4500, 4900, 2900, 2250, 2915, 3750, 3225, 1850], dtype=int64)"
      ]
     },
     "metadata": {},
     "output_type": "display_data"
    }
   ],
   "source": [
    "display(len(df2['battery_details'].unique()), df2['battery_details'].unique())"
   ]
  },
  {
   "cell_type": "code",
   "execution_count": null,
   "metadata": {},
   "outputs": [],
   "source": []
  },
  {
   "cell_type": "markdown",
   "metadata": {},
   "source": [
    "#### Warranty"
   ]
  },
  {
   "cell_type": "code",
   "execution_count": 148,
   "metadata": {},
   "outputs": [
    {
     "data": {
      "text/plain": [
       "2"
      ]
     },
     "metadata": {},
     "output_type": "display_data"
    },
    {
     "data": {
      "text/plain": [
       "array(['1', '0'], dtype=object)"
      ]
     },
     "metadata": {},
     "output_type": "display_data"
    }
   ],
   "source": [
    "display(len(df2['warranty(year)'].unique()), df2['warranty(year)'].unique()) # looks fine"
   ]
  },
  {
   "cell_type": "code",
   "execution_count": null,
   "metadata": {},
   "outputs": [],
   "source": []
  },
  {
   "cell_type": "markdown",
   "metadata": {},
   "source": [
    "#### Type casting and One Hot Encoding"
   ]
  },
  {
   "cell_type": "code",
   "execution_count": 149,
   "metadata": {},
   "outputs": [
    {
     "data": {
      "text/html": [
       "<div>\n",
       "<style scoped>\n",
       "    .dataframe tbody tr th:only-of-type {\n",
       "        vertical-align: middle;\n",
       "    }\n",
       "\n",
       "    .dataframe tbody tr th {\n",
       "        vertical-align: top;\n",
       "    }\n",
       "\n",
       "    .dataframe thead th {\n",
       "        text-align: right;\n",
       "    }\n",
       "</style>\n",
       "<table border=\"1\" class=\"dataframe\">\n",
       "  <thead>\n",
       "    <tr style=\"text-align: right;\">\n",
       "      <th></th>\n",
       "      <th>price_in_rupees</th>\n",
       "      <th>mobiles</th>\n",
       "      <th>colors</th>\n",
       "      <th>off(%)</th>\n",
       "      <th>ram</th>\n",
       "      <th>rom</th>\n",
       "      <th>expandable_gb/tb</th>\n",
       "      <th>screen_in_inch</th>\n",
       "      <th>display</th>\n",
       "      <th>secondary_camera(mp)</th>\n",
       "      <th>battery_details</th>\n",
       "      <th>warranty(year)</th>\n",
       "      <th>rating</th>\n",
       "      <th>primary_camera_max_pixels</th>\n",
       "      <th>num_of_cameras</th>\n",
       "    </tr>\n",
       "  </thead>\n",
       "  <tbody>\n",
       "    <tr>\n",
       "      <th>0</th>\n",
       "      <td>5999</td>\n",
       "      <td>others</td>\n",
       "      <td>black</td>\n",
       "      <td>14</td>\n",
       "      <td>2</td>\n",
       "      <td>16</td>\n",
       "      <td>256</td>\n",
       "      <td>6.1</td>\n",
       "      <td>hd</td>\n",
       "      <td>5</td>\n",
       "      <td>4000</td>\n",
       "      <td>1</td>\n",
       "      <td>4.5</td>\n",
       "      <td>13.0</td>\n",
       "      <td>2</td>\n",
       "    </tr>\n",
       "    <tr>\n",
       "      <th>1</th>\n",
       "      <td>5999</td>\n",
       "      <td>others</td>\n",
       "      <td>others</td>\n",
       "      <td>14</td>\n",
       "      <td>2</td>\n",
       "      <td>16</td>\n",
       "      <td>256</td>\n",
       "      <td>6.1</td>\n",
       "      <td>hd</td>\n",
       "      <td>5</td>\n",
       "      <td>4000</td>\n",
       "      <td>1</td>\n",
       "      <td>4.5</td>\n",
       "      <td>13.0</td>\n",
       "      <td>2</td>\n",
       "    </tr>\n",
       "  </tbody>\n",
       "</table>\n",
       "</div>"
      ],
      "text/plain": [
       "  price_in_rupees mobiles  colors off(%) ram   rom expandable_gb/tb  \\\n",
       "0            5999  others   black     14   2   16              256    \n",
       "1            5999  others  others     14   2   16              256    \n",
       "\n",
       "   screen_in_inch display  secondary_camera(mp)  battery_details  \\\n",
       "0             6.1      hd                     5             4000   \n",
       "1             6.1      hd                     5             4000   \n",
       "\n",
       "  warranty(year) rating  primary_camera_max_pixels  num_of_cameras  \n",
       "0              1    4.5                       13.0               2  \n",
       "1              1    4.5                       13.0               2  "
      ]
     },
     "execution_count": 149,
     "metadata": {},
     "output_type": "execute_result"
    }
   ],
   "source": [
    "df3 = df2\n",
    "df3.head(2)"
   ]
  },
  {
   "cell_type": "code",
   "execution_count": 150,
   "metadata": {},
   "outputs": [
    {
     "name": "stdout",
     "output_type": "stream",
     "text": [
      "<class 'pandas.core.frame.DataFrame'>\n",
      "Int64Index: 318 entries, 0 to 681\n",
      "Data columns (total 15 columns):\n",
      "price_in_rupees              318 non-null object\n",
      "mobiles                      318 non-null object\n",
      "colors                       318 non-null object\n",
      "off(%)                       318 non-null object\n",
      "ram                          318 non-null object\n",
      "rom                          318 non-null object\n",
      "expandable_gb/tb             318 non-null object\n",
      "screen_in_inch               318 non-null float64\n",
      "display                      318 non-null object\n",
      "secondary_camera(mp)         318 non-null int32\n",
      "battery_details              318 non-null int32\n",
      "warranty(year)               318 non-null object\n",
      "rating                       318 non-null object\n",
      "primary_camera_max_pixels    318 non-null float64\n",
      "num_of_cameras               318 non-null int64\n",
      "dtypes: float64(2), int32(2), int64(1), object(10)\n",
      "memory usage: 37.3+ KB\n"
     ]
    }
   ],
   "source": [
    "df3.info()"
   ]
  },
  {
   "cell_type": "code",
   "execution_count": 151,
   "metadata": {},
   "outputs": [],
   "source": [
    "df3['price_in_rupees'] = df3['price_in_rupees'].astype('float') \n",
    "df3['off(%)'] = df3['off(%)'].astype('float') \n",
    "df3['ram'] = df3['ram'].astype('float') \n",
    "df3['rom'] = df3['rom'].astype('float') \n",
    "df3['expandable_gb/tb'] = df3['expandable_gb/tb'].astype('float') \n",
    "df3['warranty(year)'] = df3['warranty(year)'].astype('int') \n",
    "df3['rating'] = df3['rating'].astype('float') "
   ]
  },
  {
   "cell_type": "code",
   "execution_count": 152,
   "metadata": {},
   "outputs": [
    {
     "name": "stdout",
     "output_type": "stream",
     "text": [
      "<class 'pandas.core.frame.DataFrame'>\n",
      "Int64Index: 318 entries, 0 to 681\n",
      "Data columns (total 15 columns):\n",
      "price_in_rupees              318 non-null float64\n",
      "mobiles                      318 non-null object\n",
      "colors                       318 non-null object\n",
      "off(%)                       318 non-null float64\n",
      "ram                          318 non-null float64\n",
      "rom                          318 non-null float64\n",
      "expandable_gb/tb             318 non-null float64\n",
      "screen_in_inch               318 non-null float64\n",
      "display                      318 non-null object\n",
      "secondary_camera(mp)         318 non-null int32\n",
      "battery_details              318 non-null int32\n",
      "warranty(year)               318 non-null int32\n",
      "rating                       318 non-null float64\n",
      "primary_camera_max_pixels    318 non-null float64\n",
      "num_of_cameras               318 non-null int64\n",
      "dtypes: float64(8), int32(3), int64(1), object(3)\n",
      "memory usage: 36.0+ KB\n"
     ]
    }
   ],
   "source": [
    "df3.info()"
   ]
  },
  {
   "cell_type": "code",
   "execution_count": 153,
   "metadata": {},
   "outputs": [
    {
     "data": {
      "text/plain": [
       "(318, 15)"
      ]
     },
     "metadata": {},
     "output_type": "display_data"
    },
    {
     "data": {
      "text/html": [
       "<div>\n",
       "<style scoped>\n",
       "    .dataframe tbody tr th:only-of-type {\n",
       "        vertical-align: middle;\n",
       "    }\n",
       "\n",
       "    .dataframe tbody tr th {\n",
       "        vertical-align: top;\n",
       "    }\n",
       "\n",
       "    .dataframe thead th {\n",
       "        text-align: right;\n",
       "    }\n",
       "</style>\n",
       "<table border=\"1\" class=\"dataframe\">\n",
       "  <thead>\n",
       "    <tr style=\"text-align: right;\">\n",
       "      <th></th>\n",
       "      <th>price_in_rupees</th>\n",
       "      <th>mobiles</th>\n",
       "      <th>colors</th>\n",
       "      <th>off(%)</th>\n",
       "      <th>ram</th>\n",
       "      <th>rom</th>\n",
       "      <th>expandable_gb/tb</th>\n",
       "      <th>screen_in_inch</th>\n",
       "      <th>display</th>\n",
       "      <th>secondary_camera(mp)</th>\n",
       "      <th>battery_details</th>\n",
       "      <th>warranty(year)</th>\n",
       "      <th>rating</th>\n",
       "      <th>primary_camera_max_pixels</th>\n",
       "      <th>num_of_cameras</th>\n",
       "    </tr>\n",
       "  </thead>\n",
       "  <tbody>\n",
       "    <tr>\n",
       "      <th>0</th>\n",
       "      <td>5999.0</td>\n",
       "      <td>others</td>\n",
       "      <td>black</td>\n",
       "      <td>14.0</td>\n",
       "      <td>2.0</td>\n",
       "      <td>16.0</td>\n",
       "      <td>256.0</td>\n",
       "      <td>6.1</td>\n",
       "      <td>hd</td>\n",
       "      <td>5</td>\n",
       "      <td>4000</td>\n",
       "      <td>1</td>\n",
       "      <td>4.5</td>\n",
       "      <td>13.0</td>\n",
       "      <td>2</td>\n",
       "    </tr>\n",
       "    <tr>\n",
       "      <th>1</th>\n",
       "      <td>5999.0</td>\n",
       "      <td>others</td>\n",
       "      <td>others</td>\n",
       "      <td>14.0</td>\n",
       "      <td>2.0</td>\n",
       "      <td>16.0</td>\n",
       "      <td>256.0</td>\n",
       "      <td>6.1</td>\n",
       "      <td>hd</td>\n",
       "      <td>5</td>\n",
       "      <td>4000</td>\n",
       "      <td>1</td>\n",
       "      <td>4.5</td>\n",
       "      <td>13.0</td>\n",
       "      <td>2</td>\n",
       "    </tr>\n",
       "  </tbody>\n",
       "</table>\n",
       "</div>"
      ],
      "text/plain": [
       "   price_in_rupees mobiles  colors  off(%)  ram   rom  expandable_gb/tb  \\\n",
       "0           5999.0  others   black    14.0  2.0  16.0             256.0   \n",
       "1           5999.0  others  others    14.0  2.0  16.0             256.0   \n",
       "\n",
       "   screen_in_inch display  secondary_camera(mp)  battery_details  \\\n",
       "0             6.1      hd                     5             4000   \n",
       "1             6.1      hd                     5             4000   \n",
       "\n",
       "   warranty(year)  rating  primary_camera_max_pixels  num_of_cameras  \n",
       "0               1     4.5                       13.0               2  \n",
       "1               1     4.5                       13.0               2  "
      ]
     },
     "metadata": {},
     "output_type": "display_data"
    }
   ],
   "source": [
    "display(df3.shape, df3.head(2))"
   ]
  },
  {
   "cell_type": "code",
   "execution_count": null,
   "metadata": {},
   "outputs": [],
   "source": []
  },
  {
   "cell_type": "code",
   "execution_count": 154,
   "metadata": {},
   "outputs": [
    {
     "name": "stdout",
     "output_type": "stream",
     "text": [
      "Index(['mobiles', 'colors', 'display'], dtype='object')\n"
     ]
    }
   ],
   "source": [
    "# One hot encoding of categorical variables\n",
    "cat_cols = df3.select_dtypes(include=['object']).columns\n",
    "print(cat_cols)\n",
    "df4 = pd.get_dummies(df3, columns = cat_cols, drop_first = True)"
   ]
  },
  {
   "cell_type": "code",
   "execution_count": 155,
   "metadata": {},
   "outputs": [
    {
     "data": {
      "text/plain": [
       "(318, 34)"
      ]
     },
     "metadata": {},
     "output_type": "display_data"
    },
    {
     "data": {
      "text/html": [
       "<div>\n",
       "<style scoped>\n",
       "    .dataframe tbody tr th:only-of-type {\n",
       "        vertical-align: middle;\n",
       "    }\n",
       "\n",
       "    .dataframe tbody tr th {\n",
       "        vertical-align: top;\n",
       "    }\n",
       "\n",
       "    .dataframe thead th {\n",
       "        text-align: right;\n",
       "    }\n",
       "</style>\n",
       "<table border=\"1\" class=\"dataframe\">\n",
       "  <thead>\n",
       "    <tr style=\"text-align: right;\">\n",
       "      <th></th>\n",
       "      <th>price_in_rupees</th>\n",
       "      <th>off(%)</th>\n",
       "      <th>ram</th>\n",
       "      <th>rom</th>\n",
       "      <th>expandable_gb/tb</th>\n",
       "      <th>screen_in_inch</th>\n",
       "      <th>secondary_camera(mp)</th>\n",
       "      <th>battery_details</th>\n",
       "      <th>warranty(year)</th>\n",
       "      <th>rating</th>\n",
       "      <th>...</th>\n",
       "      <th>mobiles_samsung</th>\n",
       "      <th>mobiles_vivo</th>\n",
       "      <th>colors_gold</th>\n",
       "      <th>colors_others</th>\n",
       "      <th>colors_white</th>\n",
       "      <th>display_fwvga</th>\n",
       "      <th>display_hd</th>\n",
       "      <th>display_quadhd</th>\n",
       "      <th>display_quarterhd</th>\n",
       "      <th>display_retinahd</th>\n",
       "    </tr>\n",
       "  </thead>\n",
       "  <tbody>\n",
       "    <tr>\n",
       "      <th>0</th>\n",
       "      <td>5999.0</td>\n",
       "      <td>14.0</td>\n",
       "      <td>2.0</td>\n",
       "      <td>16.0</td>\n",
       "      <td>256.0</td>\n",
       "      <td>6.1</td>\n",
       "      <td>5</td>\n",
       "      <td>4000</td>\n",
       "      <td>1</td>\n",
       "      <td>4.5</td>\n",
       "      <td>...</td>\n",
       "      <td>0</td>\n",
       "      <td>0</td>\n",
       "      <td>0</td>\n",
       "      <td>0</td>\n",
       "      <td>0</td>\n",
       "      <td>0</td>\n",
       "      <td>1</td>\n",
       "      <td>0</td>\n",
       "      <td>0</td>\n",
       "      <td>0</td>\n",
       "    </tr>\n",
       "    <tr>\n",
       "      <th>1</th>\n",
       "      <td>5999.0</td>\n",
       "      <td>14.0</td>\n",
       "      <td>2.0</td>\n",
       "      <td>16.0</td>\n",
       "      <td>256.0</td>\n",
       "      <td>6.1</td>\n",
       "      <td>5</td>\n",
       "      <td>4000</td>\n",
       "      <td>1</td>\n",
       "      <td>4.5</td>\n",
       "      <td>...</td>\n",
       "      <td>0</td>\n",
       "      <td>0</td>\n",
       "      <td>0</td>\n",
       "      <td>1</td>\n",
       "      <td>0</td>\n",
       "      <td>0</td>\n",
       "      <td>1</td>\n",
       "      <td>0</td>\n",
       "      <td>0</td>\n",
       "      <td>0</td>\n",
       "    </tr>\n",
       "  </tbody>\n",
       "</table>\n",
       "<p>2 rows × 34 columns</p>\n",
       "</div>"
      ],
      "text/plain": [
       "   price_in_rupees  off(%)  ram   rom  expandable_gb/tb  screen_in_inch  \\\n",
       "0           5999.0    14.0  2.0  16.0             256.0             6.1   \n",
       "1           5999.0    14.0  2.0  16.0             256.0             6.1   \n",
       "\n",
       "   secondary_camera(mp)  battery_details  warranty(year)  rating  ...  \\\n",
       "0                     5             4000               1     4.5  ...   \n",
       "1                     5             4000               1     4.5  ...   \n",
       "\n",
       "   mobiles_samsung  mobiles_vivo  colors_gold  colors_others  colors_white  \\\n",
       "0                0             0            0              0             0   \n",
       "1                0             0            0              1             0   \n",
       "\n",
       "   display_fwvga  display_hd  display_quadhd  display_quarterhd  \\\n",
       "0              0           1               0                  0   \n",
       "1              0           1               0                  0   \n",
       "\n",
       "   display_retinahd  \n",
       "0                 0  \n",
       "1                 0  \n",
       "\n",
       "[2 rows x 34 columns]"
      ]
     },
     "metadata": {},
     "output_type": "display_data"
    }
   ],
   "source": [
    "display(df4.shape, df4.head(2))"
   ]
  },
  {
   "cell_type": "code",
   "execution_count": 156,
   "metadata": {},
   "outputs": [
    {
     "data": {
      "text/plain": [
       "15"
      ]
     },
     "metadata": {},
     "output_type": "display_data"
    },
    {
     "data": {
      "text/plain": [
       "array(['others', 'samsung', 'oppo', 'mi', 'asus', 'lenovo', 'vivo',\n",
       "       'moto', 'honor', 'panasonic', 'gionee', 'lava', 'nokia', 'google',\n",
       "       'apple'], dtype=object)"
      ]
     },
     "metadata": {},
     "output_type": "display_data"
    },
    {
     "data": {
      "text/plain": [
       "4"
      ]
     },
     "metadata": {},
     "output_type": "display_data"
    },
    {
     "data": {
      "text/plain": [
       "array(['black', 'others', 'gold', 'white'], dtype=object)"
      ]
     },
     "metadata": {},
     "output_type": "display_data"
    },
    {
     "data": {
      "text/plain": [
       "6"
      ]
     },
     "metadata": {},
     "output_type": "display_data"
    },
    {
     "data": {
      "text/plain": [
       "array(['hd', 'fhd', 'fwvga', 'quadhd', 'quarterhd', 'retinahd'],\n",
       "      dtype=object)"
      ]
     },
     "metadata": {},
     "output_type": "display_data"
    }
   ],
   "source": [
    "display(len(df2['mobiles'].unique()), df2['mobiles'].unique(),\n",
    "       len(df2['colors'].unique()), df2['colors'].unique(),\n",
    "       len(df2['display'].unique()), df2['display'].unique()) "
   ]
  },
  {
   "cell_type": "code",
   "execution_count": 157,
   "metadata": {},
   "outputs": [
    {
     "data": {
      "text/plain": [
       "34"
      ]
     },
     "execution_count": 157,
     "metadata": {},
     "output_type": "execute_result"
    }
   ],
   "source": [
    "15-3+14+3+5"
   ]
  },
  {
   "cell_type": "code",
   "execution_count": null,
   "metadata": {},
   "outputs": [],
   "source": []
  },
  {
   "cell_type": "markdown",
   "metadata": {},
   "source": [
    "#### Converting rating into categorical variable"
   ]
  },
  {
   "cell_type": "code",
   "execution_count": 158,
   "metadata": {},
   "outputs": [
    {
     "data": {
      "text/html": [
       "<div>\n",
       "<style scoped>\n",
       "    .dataframe tbody tr th:only-of-type {\n",
       "        vertical-align: middle;\n",
       "    }\n",
       "\n",
       "    .dataframe tbody tr th {\n",
       "        vertical-align: top;\n",
       "    }\n",
       "\n",
       "    .dataframe thead th {\n",
       "        text-align: right;\n",
       "    }\n",
       "</style>\n",
       "<table border=\"1\" class=\"dataframe\">\n",
       "  <thead>\n",
       "    <tr style=\"text-align: right;\">\n",
       "      <th></th>\n",
       "      <th>price_in_rupees</th>\n",
       "      <th>off(%)</th>\n",
       "      <th>ram</th>\n",
       "      <th>rom</th>\n",
       "      <th>expandable_gb/tb</th>\n",
       "      <th>screen_in_inch</th>\n",
       "      <th>secondary_camera(mp)</th>\n",
       "      <th>battery_details</th>\n",
       "      <th>warranty(year)</th>\n",
       "      <th>rating</th>\n",
       "      <th>...</th>\n",
       "      <th>mobiles_samsung</th>\n",
       "      <th>mobiles_vivo</th>\n",
       "      <th>colors_gold</th>\n",
       "      <th>colors_others</th>\n",
       "      <th>colors_white</th>\n",
       "      <th>display_fwvga</th>\n",
       "      <th>display_hd</th>\n",
       "      <th>display_quadhd</th>\n",
       "      <th>display_quarterhd</th>\n",
       "      <th>display_retinahd</th>\n",
       "    </tr>\n",
       "  </thead>\n",
       "  <tbody>\n",
       "    <tr>\n",
       "      <th>0</th>\n",
       "      <td>5999.0</td>\n",
       "      <td>14.0</td>\n",
       "      <td>2.0</td>\n",
       "      <td>16.0</td>\n",
       "      <td>256.0</td>\n",
       "      <td>6.1</td>\n",
       "      <td>5</td>\n",
       "      <td>4000</td>\n",
       "      <td>1</td>\n",
       "      <td>4.5</td>\n",
       "      <td>...</td>\n",
       "      <td>0</td>\n",
       "      <td>0</td>\n",
       "      <td>0</td>\n",
       "      <td>0</td>\n",
       "      <td>0</td>\n",
       "      <td>0</td>\n",
       "      <td>1</td>\n",
       "      <td>0</td>\n",
       "      <td>0</td>\n",
       "      <td>0</td>\n",
       "    </tr>\n",
       "    <tr>\n",
       "      <th>1</th>\n",
       "      <td>5999.0</td>\n",
       "      <td>14.0</td>\n",
       "      <td>2.0</td>\n",
       "      <td>16.0</td>\n",
       "      <td>256.0</td>\n",
       "      <td>6.1</td>\n",
       "      <td>5</td>\n",
       "      <td>4000</td>\n",
       "      <td>1</td>\n",
       "      <td>4.5</td>\n",
       "      <td>...</td>\n",
       "      <td>0</td>\n",
       "      <td>0</td>\n",
       "      <td>0</td>\n",
       "      <td>1</td>\n",
       "      <td>0</td>\n",
       "      <td>0</td>\n",
       "      <td>1</td>\n",
       "      <td>0</td>\n",
       "      <td>0</td>\n",
       "      <td>0</td>\n",
       "    </tr>\n",
       "  </tbody>\n",
       "</table>\n",
       "<p>2 rows × 34 columns</p>\n",
       "</div>"
      ],
      "text/plain": [
       "   price_in_rupees  off(%)  ram   rom  expandable_gb/tb  screen_in_inch  \\\n",
       "0           5999.0    14.0  2.0  16.0             256.0             6.1   \n",
       "1           5999.0    14.0  2.0  16.0             256.0             6.1   \n",
       "\n",
       "   secondary_camera(mp)  battery_details  warranty(year)  rating  ...  \\\n",
       "0                     5             4000               1     4.5  ...   \n",
       "1                     5             4000               1     4.5  ...   \n",
       "\n",
       "   mobiles_samsung  mobiles_vivo  colors_gold  colors_others  colors_white  \\\n",
       "0                0             0            0              0             0   \n",
       "1                0             0            0              1             0   \n",
       "\n",
       "   display_fwvga  display_hd  display_quadhd  display_quarterhd  \\\n",
       "0              0           1               0                  0   \n",
       "1              0           1               0                  0   \n",
       "\n",
       "   display_retinahd  \n",
       "0                 0  \n",
       "1                 0  \n",
       "\n",
       "[2 rows x 34 columns]"
      ]
     },
     "execution_count": 158,
     "metadata": {},
     "output_type": "execute_result"
    }
   ],
   "source": [
    "df5 = df4\n",
    "df5.head(2)"
   ]
  },
  {
   "cell_type": "code",
   "execution_count": 159,
   "metadata": {},
   "outputs": [
    {
     "data": {
      "text/plain": [
       "(15,\n",
       " 3.0,\n",
       " 5.0,\n",
       " array([4.5, 4.3, 4.2, 4.4, 3.8, 3.7, 4. , 3.3, 4.1, 3.6, 3.5, 3.9, 3. ,\n",
       "        4.6, 5. ]))"
      ]
     },
     "execution_count": 159,
     "metadata": {},
     "output_type": "execute_result"
    }
   ],
   "source": [
    "len(df5['rating'].unique()), min(df5['rating']) ,max(df5['rating']) ,df5['rating'].unique()"
   ]
  },
  {
   "cell_type": "code",
   "execution_count": 160,
   "metadata": {},
   "outputs": [
    {
     "data": {
      "text/plain": [
       "4.3"
      ]
     },
     "execution_count": 160,
     "metadata": {},
     "output_type": "execute_result"
    }
   ],
   "source": [
    "break_point = df5.rating.median()\n",
    "break_point"
   ]
  },
  {
   "cell_type": "code",
   "execution_count": 161,
   "metadata": {},
   "outputs": [
    {
     "data": {
      "text/plain": [
       "((202, 34), (116, 34))"
      ]
     },
     "execution_count": 161,
     "metadata": {},
     "output_type": "execute_result"
    }
   ],
   "source": [
    "df5[df5.rating >= break_point].shape, df5[df5.rating < break_point].shape"
   ]
  },
  {
   "cell_type": "code",
   "execution_count": 162,
   "metadata": {},
   "outputs": [],
   "source": [
    "df5['target_rating'] = (df5.rating >= break_point).astype('int')\n",
    "# df5[df5.rating >= break_point].rating = 1"
   ]
  },
  {
   "cell_type": "code",
   "execution_count": 163,
   "metadata": {},
   "outputs": [],
   "source": [
    "df5.drop('rating', axis=1, inplace=True)"
   ]
  },
  {
   "cell_type": "code",
   "execution_count": 164,
   "metadata": {},
   "outputs": [
    {
     "data": {
      "text/plain": [
       "Index(['price_in_rupees', 'off(%)', 'ram', 'rom', 'expandable_gb/tb',\n",
       "       'screen_in_inch', 'secondary_camera(mp)', 'battery_details',\n",
       "       'warranty(year)', 'primary_camera_max_pixels', 'num_of_cameras',\n",
       "       'mobiles_asus', 'mobiles_gionee', 'mobiles_google', 'mobiles_honor',\n",
       "       'mobiles_lava', 'mobiles_lenovo', 'mobiles_mi', 'mobiles_moto',\n",
       "       'mobiles_nokia', 'mobiles_oppo', 'mobiles_others', 'mobiles_panasonic',\n",
       "       'mobiles_samsung', 'mobiles_vivo', 'colors_gold', 'colors_others',\n",
       "       'colors_white', 'display_fwvga', 'display_hd', 'display_quadhd',\n",
       "       'display_quarterhd', 'display_retinahd', 'target_rating'],\n",
       "      dtype='object')"
      ]
     },
     "execution_count": 164,
     "metadata": {},
     "output_type": "execute_result"
    }
   ],
   "source": [
    "df5.columns"
   ]
  },
  {
   "cell_type": "code",
   "execution_count": 165,
   "metadata": {},
   "outputs": [
    {
     "name": "stdout",
     "output_type": "stream",
     "text": [
      "<class 'pandas.core.frame.DataFrame'>\n",
      "Int64Index: 318 entries, 0 to 681\n",
      "Data columns (total 34 columns):\n",
      "price_in_rupees              318 non-null float64\n",
      "off(%)                       318 non-null float64\n",
      "ram                          318 non-null float64\n",
      "rom                          318 non-null float64\n",
      "expandable_gb/tb             318 non-null float64\n",
      "screen_in_inch               318 non-null float64\n",
      "secondary_camera(mp)         318 non-null int32\n",
      "battery_details              318 non-null int32\n",
      "warranty(year)               318 non-null int32\n",
      "primary_camera_max_pixels    318 non-null float64\n",
      "num_of_cameras               318 non-null int64\n",
      "mobiles_asus                 318 non-null uint8\n",
      "mobiles_gionee               318 non-null uint8\n",
      "mobiles_google               318 non-null uint8\n",
      "mobiles_honor                318 non-null uint8\n",
      "mobiles_lava                 318 non-null uint8\n",
      "mobiles_lenovo               318 non-null uint8\n",
      "mobiles_mi                   318 non-null uint8\n",
      "mobiles_moto                 318 non-null uint8\n",
      "mobiles_nokia                318 non-null uint8\n",
      "mobiles_oppo                 318 non-null uint8\n",
      "mobiles_others               318 non-null uint8\n",
      "mobiles_panasonic            318 non-null uint8\n",
      "mobiles_samsung              318 non-null uint8\n",
      "mobiles_vivo                 318 non-null uint8\n",
      "colors_gold                  318 non-null uint8\n",
      "colors_others                318 non-null uint8\n",
      "colors_white                 318 non-null uint8\n",
      "display_fwvga                318 non-null uint8\n",
      "display_hd                   318 non-null uint8\n",
      "display_quadhd               318 non-null uint8\n",
      "display_quarterhd            318 non-null uint8\n",
      "display_retinahd             318 non-null uint8\n",
      "target_rating                318 non-null int32\n",
      "dtypes: float64(7), int32(4), int64(1), uint8(22)\n",
      "memory usage: 34.2 KB\n"
     ]
    }
   ],
   "source": [
    "df5.info()"
   ]
  },
  {
   "cell_type": "code",
   "execution_count": 166,
   "metadata": {},
   "outputs": [],
   "source": [
    "# df5['target_rating']  = df5['target_rating'].astype('category')"
   ]
  },
  {
   "cell_type": "code",
   "execution_count": null,
   "metadata": {},
   "outputs": [],
   "source": []
  },
  {
   "cell_type": "markdown",
   "metadata": {},
   "source": [
    "#### Modelling begins"
   ]
  },
  {
   "cell_type": "code",
   "execution_count": 167,
   "metadata": {
    "scrolled": true
   },
   "outputs": [
    {
     "data": {
      "text/plain": [
       "target_rating                1.000000\n",
       "screen_in_inch               0.596186\n",
       "expandable_gb/tb             0.541911\n",
       "rom                          0.511751\n",
       "num_of_cameras               0.431274\n",
       "secondary_camera(mp)         0.375402\n",
       "battery_details              0.374477\n",
       "price_in_rupees              0.371587\n",
       "primary_camera_max_pixels    0.349429\n",
       "ram                          0.303564\n",
       "warranty(year)               0.286647\n",
       "mobiles_vivo                 0.230828\n",
       "mobiles_samsung              0.223239\n",
       "mobiles_honor                0.174425\n",
       "colors_others                0.166420\n",
       "display_retinahd             0.121736\n",
       "mobiles_google               0.095778\n",
       "mobiles_oppo                 0.094884\n",
       "mobiles_mi                   0.070328\n",
       "mobiles_asus                 0.026912\n",
       "mobiles_nokia               -0.022348\n",
       "display_hd                  -0.067662\n",
       "mobiles_gionee              -0.074117\n",
       "off(%)                      -0.077196\n",
       "mobiles_panasonic           -0.104983\n",
       "display_quarterhd           -0.104983\n",
       "display_quadhd              -0.106796\n",
       "colors_white                -0.123970\n",
       "colors_gold                 -0.126188\n",
       "mobiles_moto                -0.148940\n",
       "mobiles_lava                -0.197977\n",
       "mobiles_others              -0.221199\n",
       "display_fwvga               -0.293610\n",
       "mobiles_lenovo              -0.353967\n",
       "Name: target_rating, dtype: float64"
      ]
     },
     "execution_count": 167,
     "metadata": {},
     "output_type": "execute_result"
    }
   ],
   "source": [
    "# Looking at correlation with DV\n",
    "df5.corr()['target_rating'].sort_values(ascending=False)"
   ]
  },
  {
   "cell_type": "code",
   "execution_count": 168,
   "metadata": {},
   "outputs": [
    {
     "data": {
      "image/png": "[encoded data removed]",
      "text/plain": [
       "<Figure size 1008x720 with 2 Axes>"
      ]
     },
     "metadata": {
      "needs_background": "light"
     },
     "output_type": "display_data"
    }
   ],
   "source": [
    "import matplotlib.pyplot as plt\n",
    "import seaborn as sns\n",
    "fig, ax = plt.subplots()\n",
    "fig.set_size_inches(14, 10)\n",
    "\n",
    "ax=sns.heatmap(pd.DataFrame(df_final.corr()['target_rating'].sort_values(ascending = False)), cmap=\"YlGnBu\")"
   ]
  },
  {
   "cell_type": "code",
   "execution_count": 169,
   "metadata": {},
   "outputs": [
    {
     "data": {
      "text/plain": [
       "(318, 34)"
      ]
     },
     "execution_count": 169,
     "metadata": {},
     "output_type": "execute_result"
    }
   ],
   "source": [
    "df5.shape"
   ]
  },
  {
   "cell_type": "code",
   "execution_count": 170,
   "metadata": {},
   "outputs": [
    {
     "data": {
      "text/plain": [
       "['price_in_rupees',\n",
       " 'ram',\n",
       " 'rom',\n",
       " 'expandable_gb/tb',\n",
       " 'screen_in_inch',\n",
       " 'secondary_camera(mp)',\n",
       " 'battery_details',\n",
       " 'warranty(year)',\n",
       " 'primary_camera_max_pixels',\n",
       " 'num_of_cameras',\n",
       " 'mobiles_honor',\n",
       " 'mobiles_lava',\n",
       " 'mobiles_lenovo',\n",
       " 'mobiles_others',\n",
       " 'mobiles_samsung',\n",
       " 'mobiles_vivo',\n",
       " 'colors_others',\n",
       " 'display_fwvga',\n",
       " 'target_rating']"
      ]
     },
     "execution_count": 170,
     "metadata": {},
     "output_type": "execute_result"
    }
   ],
   "source": [
    "# Feature selection\n",
    "varselect = list(df5.corr()['target_rating'][abs(df5.corr()['target_rating'])>0.15].index)\n",
    "varselect"
   ]
  },
  {
   "cell_type": "code",
   "execution_count": 171,
   "metadata": {},
   "outputs": [
    {
     "data": {
      "text/html": [
       "<div>\n",
       "<style scoped>\n",
       "    .dataframe tbody tr th:only-of-type {\n",
       "        vertical-align: middle;\n",
       "    }\n",
       "\n",
       "    .dataframe tbody tr th {\n",
       "        vertical-align: top;\n",
       "    }\n",
       "\n",
       "    .dataframe thead th {\n",
       "        text-align: right;\n",
       "    }\n",
       "</style>\n",
       "<table border=\"1\" class=\"dataframe\">\n",
       "  <thead>\n",
       "    <tr style=\"text-align: right;\">\n",
       "      <th></th>\n",
       "      <th>price_in_rupees</th>\n",
       "      <th>ram</th>\n",
       "      <th>rom</th>\n",
       "      <th>expandable_gb/tb</th>\n",
       "      <th>screen_in_inch</th>\n",
       "      <th>secondary_camera(mp)</th>\n",
       "      <th>battery_details</th>\n",
       "      <th>warranty(year)</th>\n",
       "      <th>primary_camera_max_pixels</th>\n",
       "      <th>num_of_cameras</th>\n",
       "      <th>mobiles_honor</th>\n",
       "      <th>mobiles_lava</th>\n",
       "      <th>mobiles_lenovo</th>\n",
       "      <th>mobiles_others</th>\n",
       "      <th>mobiles_samsung</th>\n",
       "      <th>mobiles_vivo</th>\n",
       "      <th>colors_others</th>\n",
       "      <th>display_fwvga</th>\n",
       "      <th>target_rating</th>\n",
       "    </tr>\n",
       "  </thead>\n",
       "  <tbody>\n",
       "    <tr>\n",
       "      <th>0</th>\n",
       "      <td>5999.0</td>\n",
       "      <td>2.0</td>\n",
       "      <td>16.0</td>\n",
       "      <td>256.0</td>\n",
       "      <td>6.1</td>\n",
       "      <td>5</td>\n",
       "      <td>4000</td>\n",
       "      <td>1</td>\n",
       "      <td>13.0</td>\n",
       "      <td>2</td>\n",
       "      <td>0</td>\n",
       "      <td>0</td>\n",
       "      <td>0</td>\n",
       "      <td>1</td>\n",
       "      <td>0</td>\n",
       "      <td>0</td>\n",
       "      <td>0</td>\n",
       "      <td>0</td>\n",
       "      <td>1</td>\n",
       "    </tr>\n",
       "    <tr>\n",
       "      <th>1</th>\n",
       "      <td>5999.0</td>\n",
       "      <td>2.0</td>\n",
       "      <td>16.0</td>\n",
       "      <td>256.0</td>\n",
       "      <td>6.1</td>\n",
       "      <td>5</td>\n",
       "      <td>4000</td>\n",
       "      <td>1</td>\n",
       "      <td>13.0</td>\n",
       "      <td>2</td>\n",
       "      <td>0</td>\n",
       "      <td>0</td>\n",
       "      <td>0</td>\n",
       "      <td>1</td>\n",
       "      <td>0</td>\n",
       "      <td>0</td>\n",
       "      <td>1</td>\n",
       "      <td>0</td>\n",
       "      <td>1</td>\n",
       "    </tr>\n",
       "  </tbody>\n",
       "</table>\n",
       "</div>"
      ],
      "text/plain": [
       "   price_in_rupees  ram   rom  expandable_gb/tb  screen_in_inch  \\\n",
       "0           5999.0  2.0  16.0             256.0             6.1   \n",
       "1           5999.0  2.0  16.0             256.0             6.1   \n",
       "\n",
       "   secondary_camera(mp)  battery_details  warranty(year)  \\\n",
       "0                     5             4000               1   \n",
       "1                     5             4000               1   \n",
       "\n",
       "   primary_camera_max_pixels  num_of_cameras  mobiles_honor  mobiles_lava  \\\n",
       "0                       13.0               2              0             0   \n",
       "1                       13.0               2              0             0   \n",
       "\n",
       "   mobiles_lenovo  mobiles_others  mobiles_samsung  mobiles_vivo  \\\n",
       "0               0               1                0             0   \n",
       "1               0               1                0             0   \n",
       "\n",
       "   colors_others  display_fwvga  target_rating  \n",
       "0              0              0              1  \n",
       "1              1              0              1  "
      ]
     },
     "metadata": {},
     "output_type": "display_data"
    },
    {
     "data": {
      "text/plain": [
       "(318, 34)"
      ]
     },
     "metadata": {},
     "output_type": "display_data"
    },
    {
     "data": {
      "text/plain": [
       "(318, 19)"
      ]
     },
     "metadata": {},
     "output_type": "display_data"
    }
   ],
   "source": [
    "df_final = df5[varselect]\n",
    "display(df_final.head(2), df5.shape, df_final.shape )"
   ]
  },
  {
   "cell_type": "code",
   "execution_count": null,
   "metadata": {},
   "outputs": [],
   "source": []
  },
  {
   "cell_type": "code",
   "execution_count": 172,
   "metadata": {
    "scrolled": true
   },
   "outputs": [],
   "source": [
    "# !pip install pydot\n",
    "from sklearn.tree import DecisionTreeClassifier\n",
    "from sklearn import tree\n",
    "from sklearn.model_selection import train_test_split\n",
    "from sklearn.metrics import confusion_matrix\n",
    "from sklearn.tree import export_graphviz\n",
    "from sklearn.externals.six import StringIO \n",
    "from IPython.display import Image \n",
    "from pydot import graph_from_dot_data\n",
    "import pandas as pd\n",
    "import numpy as np\n",
    "import pydotplus"
   ]
  },
  {
   "cell_type": "code",
   "execution_count": 173,
   "metadata": {},
   "outputs": [],
   "source": [
    "#Select predictor and response variables\n",
    "X = df_final.loc[:, df_final.columns != 'target_rating']\n",
    "y =  df_final.loc[:, df_final.columns == 'target_rating']"
   ]
  },
  {
   "cell_type": "code",
   "execution_count": 174,
   "metadata": {},
   "outputs": [],
   "source": [
    "# Splitting the dataset into train and test datsets\n",
    "X_train, X_test, y_train, y_test = train_test_split(X, y, test_size=0.2, random_state=1)"
   ]
  },
  {
   "cell_type": "code",
   "execution_count": 175,
   "metadata": {},
   "outputs": [],
   "source": [
    "dt = DecisionTreeClassifier() \n",
    "dt = dt.fit(X_train, y_train)"
   ]
  },
  {
   "cell_type": "code",
   "execution_count": 176,
   "metadata": {},
   "outputs": [],
   "source": [
    "y_pred_train = dt.predict(X_train)\n",
    "y_pred_test = dt.predict(X_test)\n",
    "# y_pred_train, y_pred_test"
   ]
  },
  {
   "cell_type": "code",
   "execution_count": null,
   "metadata": {},
   "outputs": [],
   "source": []
  },
  {
   "cell_type": "markdown",
   "metadata": {},
   "source": [
    "#### Model Evaluation"
   ]
  },
  {
   "cell_type": "code",
   "execution_count": 180,
   "metadata": {},
   "outputs": [
    {
     "data": {
      "text/plain": [
       "array([[ 97,   0],\n",
       "       [  0, 157]], dtype=int64)"
      ]
     },
     "execution_count": 180,
     "metadata": {},
     "output_type": "execute_result"
    }
   ],
   "source": [
    "confusion_matrix(y_true=list(y_train.target_rating), y_pred=list(y_pred_train))\n"
   ]
  },
  {
   "cell_type": "code",
   "execution_count": 179,
   "metadata": {},
   "outputs": [
    {
     "data": {
      "text/plain": [
       "(97, 0, 0, 157)"
      ]
     },
     "execution_count": 179,
     "metadata": {},
     "output_type": "execute_result"
    }
   ],
   "source": [
    "# Accuracy on training dataset\n",
    "tn_train, fp_train, fn_train, tp_train = confusion_matrix(y_true=list(y_train.target_rating), y_pred=list(y_pred_train)).ravel()\n",
    "tn_train, fp_train, fn_train, tp_train"
   ]
  },
  {
   "cell_type": "code",
   "execution_count": 181,
   "metadata": {},
   "outputs": [
    {
     "data": {
      "text/plain": [
       "'The accuracy on training data is 100.0 %'"
      ]
     },
     "execution_count": 181,
     "metadata": {},
     "output_type": "execute_result"
    }
   ],
   "source": [
    "accuracy_train = (tn_train+tp_train)/(tn_train+fp_train+fn_train+tp_train)*100\n",
    "\"The accuracy on training data is {} %\".format(accuracy_train)"
   ]
  },
  {
   "cell_type": "code",
   "execution_count": null,
   "metadata": {},
   "outputs": [],
   "source": []
  },
  {
   "cell_type": "code",
   "execution_count": 182,
   "metadata": {},
   "outputs": [
    {
     "data": {
      "text/plain": [
       "(17, 2, 1, 44)"
      ]
     },
     "execution_count": 182,
     "metadata": {},
     "output_type": "execute_result"
    }
   ],
   "source": [
    "# Accuracy on test dataset\n",
    "tn_test, fp_test, fn_test, tp_test = confusion_matrix(y_true=list(y_test.target_rating), y_pred=list(y_pred_test)).ravel()\n",
    "tn_test, fp_test, fn_test, tp_test"
   ]
  },
  {
   "cell_type": "code",
   "execution_count": 183,
   "metadata": {},
   "outputs": [
    {
     "data": {
      "text/plain": [
       "'The accuracy on training data is 95.3125 %'"
      ]
     },
     "execution_count": 183,
     "metadata": {},
     "output_type": "execute_result"
    }
   ],
   "source": [
    "accuracy_test = (tp_test+tn_test)/(tn_test+fp_test+fn_test+tp_test)*100\n",
    "\"The accuracy on training data is {} %\".format(accuracy_test)"
   ]
  },
  {
   "cell_type": "code",
   "execution_count": null,
   "metadata": {},
   "outputs": [],
   "source": []
  }
 ],
 "metadata": {
  "kernelspec": {
   "display_name": "Python 3",
   "language": "python",
   "name": "python3"
  },
  "language_info": {
   "codemirror_mode": {
    "name": "ipython",
    "version": 3
   },
   "file_extension": ".py",
   "mimetype": "text/x-python",
   "name": "python",
   "nbconvert_exporter": "python",
   "pygments_lexer": "ipython3",
   "version": "3.7.3"
  }
 },
 "nbformat": 4,
 "nbformat_minor": 2
}
